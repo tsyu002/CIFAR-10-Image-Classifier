{
 "cells": [
  {
   "cell_type": "code",
   "execution_count": 1,
   "metadata": {},
   "outputs": [
    {
     "name": "stderr",
     "output_type": "stream",
     "text": [
      "/Library/Frameworks/Python.framework/Versions/3.7/lib/python3.7/importlib/_bootstrap.py:219: RuntimeWarning: compiletime version 3.6 of module 'tensorflow.python.framework.fast_tensor_util' does not match runtime version 3.7\n",
      "  return f(*args, **kwds)\n"
     ]
    }
   ],
   "source": [
    "# TensorFlow and tf.keras\n",
    "import tensorflow as tf\n",
    "from tensorflow import keras\n",
    "\n",
    "# Helper libraries\n",
    "import numpy as np\n",
    "import matplotlib.pyplot as plt\n",
    "%matplotlib inline\n",
    "\n",
    "from datetime import datetime\n",
    "\n",
    "from sklearn import metrics\n",
    "from sklearn.metrics import accuracy_score \n",
    "from sklearn.metrics import classification_report\n",
    "from sklearn.metrics import confusion_matrix\n",
    "\n",
    "\n",
    "from sklearn.model_selection import train_test_split\n",
    "from sklearn.model_selection import cross_val_score\n",
    "from sklearn.model_selection import cross_val_predict\n",
    "from sklearn.model_selection import GridSearchCV, RandomizedSearchCV"
   ]
  },
  {
   "cell_type": "markdown",
   "metadata": {},
   "source": [
    "# Load Data"
   ]
  },
  {
   "cell_type": "code",
   "execution_count": 2,
   "metadata": {},
   "outputs": [],
   "source": [
    "cifar10_dataset = keras.datasets.cifar10\n",
    "\n",
    "(train_images, train_labels), (test_images, test_labels) = cifar10_dataset.load_data()"
   ]
  },
  {
   "cell_type": "code",
   "execution_count": 3,
   "metadata": {},
   "outputs": [
    {
     "name": "stdout",
     "output_type": "stream",
     "text": [
      "Training images: (50000, 32, 32, 3)\n",
      "Training labels: (50000, 1)\n",
      "Test images: (10000, 32, 32, 3)\n",
      "Test labels: (10000, 1)\n"
     ]
    }
   ],
   "source": [
    "print('Training images:', train_images.shape)\n",
    "print('Training labels:', train_labels.shape)\n",
    "print('Test images:', test_images.shape)\n",
    "print('Test labels:', test_labels.shape)"
   ]
  },
  {
   "cell_type": "code",
   "execution_count": 4,
   "metadata": {
    "scrolled": true
   },
   "outputs": [
    {
     "data": {
      "text/plain": [
       "array([[[[ 59,  62,  63],\n",
       "         [ 43,  46,  45],\n",
       "         [ 50,  48,  43],\n",
       "         ...,\n",
       "         [158, 132, 108],\n",
       "         [152, 125, 102],\n",
       "         [148, 124, 103]],\n",
       "\n",
       "        [[ 16,  20,  20],\n",
       "         [  0,   0,   0],\n",
       "         [ 18,   8,   0],\n",
       "         ...,\n",
       "         [123,  88,  55],\n",
       "         [119,  83,  50],\n",
       "         [122,  87,  57]],\n",
       "\n",
       "        [[ 25,  24,  21],\n",
       "         [ 16,   7,   0],\n",
       "         [ 49,  27,   8],\n",
       "         ...,\n",
       "         [118,  84,  50],\n",
       "         [120,  84,  50],\n",
       "         [109,  73,  42]],\n",
       "\n",
       "        ...,\n",
       "\n",
       "        [[208, 170,  96],\n",
       "         [201, 153,  34],\n",
       "         [198, 161,  26],\n",
       "         ...,\n",
       "         [160, 133,  70],\n",
       "         [ 56,  31,   7],\n",
       "         [ 53,  34,  20]],\n",
       "\n",
       "        [[180, 139,  96],\n",
       "         [173, 123,  42],\n",
       "         [186, 144,  30],\n",
       "         ...,\n",
       "         [184, 148,  94],\n",
       "         [ 97,  62,  34],\n",
       "         [ 83,  53,  34]],\n",
       "\n",
       "        [[177, 144, 116],\n",
       "         [168, 129,  94],\n",
       "         [179, 142,  87],\n",
       "         ...,\n",
       "         [216, 184, 140],\n",
       "         [151, 118,  84],\n",
       "         [123,  92,  72]]],\n",
       "\n",
       "\n",
       "       [[[154, 177, 187],\n",
       "         [126, 137, 136],\n",
       "         [105, 104,  95],\n",
       "         ...,\n",
       "         [ 91,  95,  71],\n",
       "         [ 87,  90,  71],\n",
       "         [ 79,  81,  70]],\n",
       "\n",
       "        [[140, 160, 169],\n",
       "         [145, 153, 154],\n",
       "         [125, 125, 118],\n",
       "         ...,\n",
       "         [ 96,  99,  78],\n",
       "         [ 77,  80,  62],\n",
       "         [ 71,  73,  61]],\n",
       "\n",
       "        [[140, 155, 164],\n",
       "         [139, 146, 149],\n",
       "         [115, 115, 112],\n",
       "         ...,\n",
       "         [ 79,  82,  64],\n",
       "         [ 68,  70,  55],\n",
       "         [ 67,  69,  55]],\n",
       "\n",
       "        ...,\n",
       "\n",
       "        [[175, 167, 166],\n",
       "         [156, 154, 160],\n",
       "         [154, 160, 170],\n",
       "         ...,\n",
       "         [ 42,  34,  36],\n",
       "         [ 61,  53,  57],\n",
       "         [ 93,  83,  91]],\n",
       "\n",
       "        [[165, 154, 128],\n",
       "         [156, 152, 130],\n",
       "         [159, 161, 142],\n",
       "         ...,\n",
       "         [103,  93,  96],\n",
       "         [123, 114, 120],\n",
       "         [131, 121, 131]],\n",
       "\n",
       "        [[163, 148, 120],\n",
       "         [158, 148, 122],\n",
       "         [163, 156, 133],\n",
       "         ...,\n",
       "         [143, 133, 139],\n",
       "         [143, 134, 142],\n",
       "         [143, 133, 144]]],\n",
       "\n",
       "\n",
       "       [[[255, 255, 255],\n",
       "         [253, 253, 253],\n",
       "         [253, 253, 253],\n",
       "         ...,\n",
       "         [253, 253, 253],\n",
       "         [253, 253, 253],\n",
       "         [253, 253, 253]],\n",
       "\n",
       "        [[255, 255, 255],\n",
       "         [255, 255, 255],\n",
       "         [255, 255, 255],\n",
       "         ...,\n",
       "         [255, 255, 255],\n",
       "         [255, 255, 255],\n",
       "         [255, 255, 255]],\n",
       "\n",
       "        [[255, 255, 255],\n",
       "         [254, 254, 254],\n",
       "         [254, 254, 254],\n",
       "         ...,\n",
       "         [254, 254, 254],\n",
       "         [254, 254, 254],\n",
       "         [254, 254, 254]],\n",
       "\n",
       "        ...,\n",
       "\n",
       "        [[113, 120, 112],\n",
       "         [111, 118, 111],\n",
       "         [105, 112, 106],\n",
       "         ...,\n",
       "         [ 72,  81,  80],\n",
       "         [ 72,  80,  79],\n",
       "         [ 72,  80,  79]],\n",
       "\n",
       "        [[111, 118, 110],\n",
       "         [104, 111, 104],\n",
       "         [ 99, 106,  98],\n",
       "         ...,\n",
       "         [ 68,  75,  73],\n",
       "         [ 70,  76,  75],\n",
       "         [ 78,  84,  82]],\n",
       "\n",
       "        [[106, 113, 105],\n",
       "         [ 99, 106,  98],\n",
       "         [ 95, 102,  94],\n",
       "         ...,\n",
       "         [ 78,  85,  83],\n",
       "         [ 79,  85,  83],\n",
       "         [ 80,  86,  84]]],\n",
       "\n",
       "\n",
       "       ...,\n",
       "\n",
       "\n",
       "       [[[ 35, 178, 235],\n",
       "         [ 40, 176, 239],\n",
       "         [ 42, 176, 241],\n",
       "         ...,\n",
       "         [ 99, 177, 219],\n",
       "         [ 79, 147, 197],\n",
       "         [ 89, 148, 189]],\n",
       "\n",
       "        [[ 57, 182, 234],\n",
       "         [ 44, 184, 250],\n",
       "         [ 50, 183, 240],\n",
       "         ...,\n",
       "         [156, 182, 200],\n",
       "         [141, 177, 206],\n",
       "         [116, 149, 175]],\n",
       "\n",
       "        [[ 98, 197, 237],\n",
       "         [ 64, 189, 252],\n",
       "         [ 69, 192, 245],\n",
       "         ...,\n",
       "         [188, 195, 206],\n",
       "         [119, 135, 147],\n",
       "         [ 61,  79,  90]],\n",
       "\n",
       "        ...,\n",
       "\n",
       "        [[ 73,  79,  77],\n",
       "         [ 53,  63,  68],\n",
       "         [ 54,  68,  80],\n",
       "         ...,\n",
       "         [ 17,  40,  64],\n",
       "         [ 21,  36,  51],\n",
       "         [ 33,  48,  49]],\n",
       "\n",
       "        [[ 61,  68,  75],\n",
       "         [ 55,  70,  86],\n",
       "         [ 57,  79, 103],\n",
       "         ...,\n",
       "         [ 24,  48,  72],\n",
       "         [ 17,  35,  53],\n",
       "         [  7,  23,  32]],\n",
       "\n",
       "        [[ 44,  56,  73],\n",
       "         [ 46,  66,  88],\n",
       "         [ 49,  77, 105],\n",
       "         ...,\n",
       "         [ 27,  52,  77],\n",
       "         [ 21,  43,  66],\n",
       "         [ 12,  31,  50]]],\n",
       "\n",
       "\n",
       "       [[[189, 211, 240],\n",
       "         [186, 208, 236],\n",
       "         [185, 207, 235],\n",
       "         ...,\n",
       "         [175, 195, 224],\n",
       "         [172, 194, 222],\n",
       "         [169, 194, 220]],\n",
       "\n",
       "        [[194, 210, 239],\n",
       "         [191, 207, 236],\n",
       "         [190, 206, 235],\n",
       "         ...,\n",
       "         [173, 192, 220],\n",
       "         [171, 191, 218],\n",
       "         [167, 190, 216]],\n",
       "\n",
       "        [[208, 219, 244],\n",
       "         [205, 216, 240],\n",
       "         [204, 215, 239],\n",
       "         ...,\n",
       "         [175, 191, 217],\n",
       "         [172, 190, 216],\n",
       "         [169, 191, 215]],\n",
       "\n",
       "        ...,\n",
       "\n",
       "        [[207, 199, 181],\n",
       "         [203, 195, 175],\n",
       "         [203, 196, 173],\n",
       "         ...,\n",
       "         [135, 132, 127],\n",
       "         [162, 158, 150],\n",
       "         [168, 163, 151]],\n",
       "\n",
       "        [[198, 190, 170],\n",
       "         [189, 181, 159],\n",
       "         [180, 172, 147],\n",
       "         ...,\n",
       "         [178, 171, 160],\n",
       "         [175, 169, 156],\n",
       "         [175, 169, 154]],\n",
       "\n",
       "        [[198, 189, 173],\n",
       "         [189, 181, 162],\n",
       "         [178, 170, 149],\n",
       "         ...,\n",
       "         [195, 184, 169],\n",
       "         [196, 189, 171],\n",
       "         [195, 190, 171]]],\n",
       "\n",
       "\n",
       "       [[[229, 229, 239],\n",
       "         [236, 237, 247],\n",
       "         [234, 236, 247],\n",
       "         ...,\n",
       "         [217, 219, 233],\n",
       "         [221, 223, 234],\n",
       "         [222, 223, 233]],\n",
       "\n",
       "        [[222, 221, 229],\n",
       "         [239, 239, 249],\n",
       "         [233, 234, 246],\n",
       "         ...,\n",
       "         [223, 223, 236],\n",
       "         [227, 228, 238],\n",
       "         [210, 211, 220]],\n",
       "\n",
       "        [[213, 206, 211],\n",
       "         [234, 232, 239],\n",
       "         [231, 233, 244],\n",
       "         ...,\n",
       "         [220, 220, 232],\n",
       "         [220, 219, 232],\n",
       "         [202, 203, 215]],\n",
       "\n",
       "        ...,\n",
       "\n",
       "        [[150, 143, 135],\n",
       "         [140, 135, 127],\n",
       "         [132, 127, 120],\n",
       "         ...,\n",
       "         [224, 222, 218],\n",
       "         [230, 228, 225],\n",
       "         [241, 241, 238]],\n",
       "\n",
       "        [[137, 132, 126],\n",
       "         [130, 127, 120],\n",
       "         [125, 121, 115],\n",
       "         ...,\n",
       "         [181, 180, 178],\n",
       "         [202, 201, 198],\n",
       "         [212, 211, 207]],\n",
       "\n",
       "        [[122, 119, 114],\n",
       "         [118, 116, 110],\n",
       "         [120, 116, 111],\n",
       "         ...,\n",
       "         [179, 177, 173],\n",
       "         [164, 164, 162],\n",
       "         [163, 163, 161]]]], dtype=uint8)"
      ]
     },
     "execution_count": 4,
     "metadata": {},
     "output_type": "execute_result"
    }
   ],
   "source": [
    "train_images"
   ]
  },
  {
   "cell_type": "code",
   "execution_count": 5,
   "metadata": {},
   "outputs": [
    {
     "data": {
      "text/plain": [
       "array([[6],\n",
       "       [9],\n",
       "       [9],\n",
       "       ...,\n",
       "       [9],\n",
       "       [1],\n",
       "       [1]], dtype=uint8)"
      ]
     },
     "execution_count": 5,
     "metadata": {},
     "output_type": "execute_result"
    }
   ],
   "source": [
    "train_labels"
   ]
  },
  {
   "cell_type": "code",
   "execution_count": 6,
   "metadata": {},
   "outputs": [
    {
     "data": {
      "image/png": "[encoded data removed]",
      "text/plain": [
       "<Figure size 720x720 with 25 Axes>"
      ]
     },
     "metadata": {},
     "output_type": "display_data"
    }
   ],
   "source": [
    "plt.figure(figsize=(10,10))\n",
    "for i in range(25):\n",
    "    plt.subplot(5,5,i+1)\n",
    "    plt.xticks([])\n",
    "    plt.yticks([])\n",
    "    plt.grid(False)\n",
    "    plt.imshow(train_images[i], cmap=plt.cm.binary)"
   ]
  },
  {
   "cell_type": "markdown",
   "metadata": {},
   "source": [
    "# Preprocessing Data"
   ]
  },
  {
   "cell_type": "code",
   "execution_count": 7,
   "metadata": {},
   "outputs": [],
   "source": [
    "train_images = train_images / 255.0\n",
    "\n",
    "test_images = test_images / 255.0"
   ]
  },
  {
   "cell_type": "code",
   "execution_count": 8,
   "metadata": {},
   "outputs": [
    {
     "name": "stdout",
     "output_type": "stream",
     "text": [
      "Training image shape:  (50000, 32, 32, 3)\n",
      "Training label shape:  (50000, 1)\n"
     ]
    }
   ],
   "source": [
    "print('Training image shape: ', train_images.shape)\n",
    "print('Training label shape: ', train_labels.shape)"
   ]
  },
  {
   "cell_type": "code",
   "execution_count": 9,
   "metadata": {},
   "outputs": [
    {
     "data": {
      "text/plain": [
       "array([33553,  9427,   199, ..., 38158,   860, 15795])"
      ]
     },
     "execution_count": 9,
     "metadata": {},
     "output_type": "execute_result"
    }
   ],
   "source": [
    "np.random.seed(42)\n",
    "random_arr_50000 = np.arange(50000)\n",
    "np.random.shuffle(random_arr_50000 )\n",
    "random_arr_50000 "
   ]
  },
  {
   "cell_type": "code",
   "execution_count": 10,
   "metadata": {},
   "outputs": [
    {
     "name": "stdout",
     "output_type": "stream",
     "text": [
      "<class 'numpy.ndarray'>\n"
     ]
    }
   ],
   "source": [
    "X_train_50000 = train_images[random_arr_50000]\n",
    "y_train_50000 = train_labels[random_arr_50000]#.astype(int)\n",
    "print (type(y_train_50000[0]))"
   ]
  },
  {
   "cell_type": "markdown",
   "metadata": {},
   "source": [
    "# Split Data"
   ]
  },
  {
   "cell_type": "code",
   "execution_count": 11,
   "metadata": {},
   "outputs": [],
   "source": [
    "X_train, X_val, y_train, y_val  = train_test_split(X_train_50000, y_train_50000, test_size = 1/25, random_state = 42)"
   ]
  },
  {
   "cell_type": "code",
   "execution_count": 12,
   "metadata": {},
   "outputs": [
    {
     "name": "stdout",
     "output_type": "stream",
     "text": [
      "(48000, 32, 32, 3) (2000, 32, 32, 3)\n",
      "(48000, 1) (2000, 1)\n"
     ]
    }
   ],
   "source": [
    "print(X_train.shape, X_val.shape)\n",
    "print(y_train.shape, y_val.shape)"
   ]
  },
  {
   "cell_type": "markdown",
   "metadata": {},
   "source": [
    "# Check Optimal Number of Neurons for First Layer"
   ]
  },
  {
   "cell_type": "code",
   "execution_count": 13,
   "metadata": {
    "scrolled": true
   },
   "outputs": [
    {
     "name": "stdout",
     "output_type": "stream",
     "text": [
      "Neuron_set_size: 300\n",
      "Epoch 1/5\n",
      "38784/48000 [=======================>......] - ETA: 1s - loss: 1.9017 - acc: 0.3112"
     ]
    },
    {
     "ename": "KeyboardInterrupt",
     "evalue": "",
     "output_type": "error",
     "traceback": [
      "\u001b[0;31m---------------------------------------------------------------------------\u001b[0m",
      "\u001b[0;31mKeyboardInterrupt\u001b[0m                         Traceback (most recent call last)",
      "\u001b[0;32m<ipython-input-13-ee293fd5e7b0>\u001b[0m in \u001b[0;36m<module>\u001b[0;34m()\u001b[0m\n\u001b[1;32m     20\u001b[0m     metrics=['accuracy'])\n\u001b[1;32m     21\u001b[0m \u001b[0;34m\u001b[0m\u001b[0m\n\u001b[0;32m---> 22\u001b[0;31m     \u001b[0mmodel_relu\u001b[0m\u001b[0;34m.\u001b[0m\u001b[0mfit\u001b[0m\u001b[0;34m(\u001b[0m\u001b[0mX_train\u001b[0m\u001b[0;34m,\u001b[0m \u001b[0my_train\u001b[0m\u001b[0;34m,\u001b[0m \u001b[0mepochs\u001b[0m\u001b[0;34m=\u001b[0m\u001b[0;36m5\u001b[0m\u001b[0;34m)\u001b[0m\u001b[0;34m\u001b[0m\u001b[0m\n\u001b[0m\u001b[1;32m     23\u001b[0m     \u001b[0mtrain_loss\u001b[0m\u001b[0;34m,\u001b[0m \u001b[0mtrain_acc\u001b[0m \u001b[0;34m=\u001b[0m \u001b[0mmodel_relu\u001b[0m\u001b[0;34m.\u001b[0m\u001b[0mevaluate\u001b[0m\u001b[0;34m(\u001b[0m\u001b[0mX_train\u001b[0m\u001b[0;34m,\u001b[0m \u001b[0my_train\u001b[0m\u001b[0;34m)\u001b[0m\u001b[0;34m\u001b[0m\u001b[0m\n\u001b[1;32m     24\u001b[0m     \u001b[0mtrain_error\u001b[0m \u001b[0;34m=\u001b[0m \u001b[0;36m1\u001b[0m \u001b[0;34m-\u001b[0m \u001b[0mtrain_acc\u001b[0m\u001b[0;34m\u001b[0m\u001b[0m\n",
      "\u001b[0;32m/Library/Frameworks/Python.framework/Versions/3.7/lib/python3.7/site-packages/tensorflow/python/keras/engine/training.py\u001b[0m in \u001b[0;36mfit\u001b[0;34m(self, x, y, batch_size, epochs, verbose, callbacks, validation_split, validation_data, shuffle, class_weight, sample_weight, initial_epoch, steps_per_epoch, validation_steps, **kwargs)\u001b[0m\n\u001b[1;32m   1603\u001b[0m           \u001b[0minitial_epoch\u001b[0m\u001b[0;34m=\u001b[0m\u001b[0minitial_epoch\u001b[0m\u001b[0;34m,\u001b[0m\u001b[0;34m\u001b[0m\u001b[0m\n\u001b[1;32m   1604\u001b[0m           \u001b[0msteps_per_epoch\u001b[0m\u001b[0;34m=\u001b[0m\u001b[0msteps_per_epoch\u001b[0m\u001b[0;34m,\u001b[0m\u001b[0;34m\u001b[0m\u001b[0m\n\u001b[0;32m-> 1605\u001b[0;31m           validation_steps=validation_steps)\n\u001b[0m\u001b[1;32m   1606\u001b[0m \u001b[0;34m\u001b[0m\u001b[0m\n\u001b[1;32m   1607\u001b[0m   def evaluate(self,\n",
      "\u001b[0;32m/Library/Frameworks/Python.framework/Versions/3.7/lib/python3.7/site-packages/tensorflow/python/keras/engine/training_arrays.py\u001b[0m in \u001b[0;36mfit_loop\u001b[0;34m(model, inputs, targets, sample_weights, batch_size, epochs, verbose, callbacks, val_inputs, val_targets, val_sample_weights, shuffle, initial_epoch, steps_per_epoch, validation_steps)\u001b[0m\n\u001b[1;32m    218\u001b[0m           \u001b[0mbatch_logs\u001b[0m\u001b[0;34m[\u001b[0m\u001b[0ml\u001b[0m\u001b[0;34m]\u001b[0m \u001b[0;34m=\u001b[0m \u001b[0mo\u001b[0m\u001b[0;34m\u001b[0m\u001b[0m\n\u001b[1;32m    219\u001b[0m \u001b[0;34m\u001b[0m\u001b[0m\n\u001b[0;32m--> 220\u001b[0;31m         \u001b[0mcallbacks\u001b[0m\u001b[0;34m.\u001b[0m\u001b[0mon_batch_end\u001b[0m\u001b[0;34m(\u001b[0m\u001b[0mbatch_index\u001b[0m\u001b[0;34m,\u001b[0m \u001b[0mbatch_logs\u001b[0m\u001b[0;34m)\u001b[0m\u001b[0;34m\u001b[0m\u001b[0m\n\u001b[0m\u001b[1;32m    221\u001b[0m         \u001b[0;32mif\u001b[0m \u001b[0mcallbacks\u001b[0m\u001b[0;34m.\u001b[0m\u001b[0mmodel\u001b[0m\u001b[0;34m.\u001b[0m\u001b[0mstop_training\u001b[0m\u001b[0;34m:\u001b[0m\u001b[0;34m\u001b[0m\u001b[0m\n\u001b[1;32m    222\u001b[0m           \u001b[0;32mbreak\u001b[0m\u001b[0;34m\u001b[0m\u001b[0m\n",
      "\u001b[0;32m/Library/Frameworks/Python.framework/Versions/3.7/lib/python3.7/site-packages/tensorflow/python/keras/callbacks.py\u001b[0m in \u001b[0;36mon_batch_end\u001b[0;34m(self, batch, logs)\u001b[0m\n\u001b[1;32m    247\u001b[0m     \u001b[0mt_before_callbacks\u001b[0m \u001b[0;34m=\u001b[0m \u001b[0mtime\u001b[0m\u001b[0;34m.\u001b[0m\u001b[0mtime\u001b[0m\u001b[0;34m(\u001b[0m\u001b[0;34m)\u001b[0m\u001b[0;34m\u001b[0m\u001b[0m\n\u001b[1;32m    248\u001b[0m     \u001b[0;32mfor\u001b[0m \u001b[0mcallback\u001b[0m \u001b[0;32min\u001b[0m \u001b[0mself\u001b[0m\u001b[0;34m.\u001b[0m\u001b[0mcallbacks\u001b[0m\u001b[0;34m:\u001b[0m\u001b[0;34m\u001b[0m\u001b[0m\n\u001b[0;32m--> 249\u001b[0;31m       \u001b[0mcallback\u001b[0m\u001b[0;34m.\u001b[0m\u001b[0mon_batch_end\u001b[0m\u001b[0;34m(\u001b[0m\u001b[0mbatch\u001b[0m\u001b[0;34m,\u001b[0m \u001b[0mlogs\u001b[0m\u001b[0;34m)\u001b[0m\u001b[0;34m\u001b[0m\u001b[0m\n\u001b[0m\u001b[1;32m    250\u001b[0m     \u001b[0mself\u001b[0m\u001b[0;34m.\u001b[0m\u001b[0m_delta_ts_batch_end\u001b[0m\u001b[0;34m.\u001b[0m\u001b[0mappend\u001b[0m\u001b[0;34m(\u001b[0m\u001b[0mtime\u001b[0m\u001b[0;34m.\u001b[0m\u001b[0mtime\u001b[0m\u001b[0;34m(\u001b[0m\u001b[0;34m)\u001b[0m \u001b[0;34m-\u001b[0m \u001b[0mt_before_callbacks\u001b[0m\u001b[0;34m)\u001b[0m\u001b[0;34m\u001b[0m\u001b[0m\n\u001b[1;32m    251\u001b[0m     \u001b[0mdelta_t_median\u001b[0m \u001b[0;34m=\u001b[0m \u001b[0mnp\u001b[0m\u001b[0;34m.\u001b[0m\u001b[0mmedian\u001b[0m\u001b[0;34m(\u001b[0m\u001b[0mself\u001b[0m\u001b[0;34m.\u001b[0m\u001b[0m_delta_ts_batch_end\u001b[0m\u001b[0;34m)\u001b[0m\u001b[0;34m\u001b[0m\u001b[0m\n",
      "\u001b[0;32m/Library/Frameworks/Python.framework/Versions/3.7/lib/python3.7/site-packages/tensorflow/python/keras/callbacks.py\u001b[0m in \u001b[0;36mon_batch_end\u001b[0;34m(self, batch, logs)\u001b[0m\n\u001b[1;32m    455\u001b[0m \u001b[0;34m\u001b[0m\u001b[0m\n\u001b[1;32m    456\u001b[0m     \u001b[0;32mfor\u001b[0m \u001b[0mk\u001b[0m \u001b[0;32min\u001b[0m \u001b[0mself\u001b[0m\u001b[0;34m.\u001b[0m\u001b[0mparams\u001b[0m\u001b[0;34m[\u001b[0m\u001b[0;34m'metrics'\u001b[0m\u001b[0;34m]\u001b[0m\u001b[0;34m:\u001b[0m\u001b[0;34m\u001b[0m\u001b[0m\n\u001b[0;32m--> 457\u001b[0;31m       \u001b[0;32mif\u001b[0m \u001b[0mk\u001b[0m \u001b[0;32min\u001b[0m \u001b[0mlogs\u001b[0m\u001b[0;34m:\u001b[0m\u001b[0;34m\u001b[0m\u001b[0m\n\u001b[0m\u001b[1;32m    458\u001b[0m         \u001b[0mself\u001b[0m\u001b[0;34m.\u001b[0m\u001b[0mlog_values\u001b[0m\u001b[0;34m.\u001b[0m\u001b[0mappend\u001b[0m\u001b[0;34m(\u001b[0m\u001b[0;34m(\u001b[0m\u001b[0mk\u001b[0m\u001b[0;34m,\u001b[0m \u001b[0mlogs\u001b[0m\u001b[0;34m[\u001b[0m\u001b[0mk\u001b[0m\u001b[0;34m]\u001b[0m\u001b[0;34m)\u001b[0m\u001b[0;34m)\u001b[0m\u001b[0;34m\u001b[0m\u001b[0m\n\u001b[1;32m    459\u001b[0m \u001b[0;34m\u001b[0m\u001b[0m\n",
      "\u001b[0;31mKeyboardInterrupt\u001b[0m: "
     ]
    }
   ],
   "source": [
    "Nron_size_list_RELU = []\n",
    "Train_error_list_RELU = []\n",
    "Val_error_list_RELU = []\n",
    "\n",
    "\n",
    "for j in [300,600,900,1000,2000,3000,5000,8000]:\n",
    "    Nron_size_list_RELU.append(j)\n",
    "    print('Neuron_set_size:', j)\n",
    "\n",
    "    model_relu = keras.Sequential([\n",
    "    keras.layers.Flatten(input_shape=(32 , 32, 3)),\n",
    "    keras.layers.Dense(j, activation=tf.nn.relu),\n",
    "    keras.layers.Dense(10, activation=tf.nn.softmax)])\n",
    "    model_relu.compile(optimizer=tf.train.GradientDescentOptimizer(\n",
    "    learning_rate=0.05,\n",
    "    use_locking=False,\n",
    "    name='GradientDescent'), \n",
    "\n",
    "    loss='sparse_categorical_crossentropy',\n",
    "    metrics=['accuracy'])\n",
    "\n",
    "    model_relu.fit(X_train, y_train, epochs=5)\n",
    "    train_loss, train_acc = model_relu.evaluate(X_train, y_train)\n",
    "    train_error = 1 - train_acc\n",
    "\n",
    "    val_loss, val_acc = model_relu.evaluate(X_val, y_val)\n",
    "    val_error = 1 - val_acc\n",
    "    print('Train error, Val_error',  train_error, '/', val_error)\n",
    "                                   \n",
    "    Train_error_list_RELU.append(train_error)\n",
    "    Val_error_list_RELU.append(val_error)\n",
    "\n",
    "\n",
    "print(\"Nron_size_list_RELU: \", Nron_size_list_RELU)\n",
    "print(\"Train_error_list_RELU: \", Train_error_list_RELU)\n",
    "print(\"Val_error_list_RELU: \", Val_error_list_RELU)"
   ]
  },
  {
   "cell_type": "code",
   "execution_count": null,
   "metadata": {},
   "outputs": [],
   "source": [
    "plt.figure(figsize = (15,10))\n",
    "plt.plot(Nron_size_list_RELU, Train_error_list_RELU, 'go-', label = \"Training(Relu)\")\n",
    "plt.plot(Nron_size_list_RELU, Val_error_list_RELU, 'yo-', label = \"Validation(Relu)\")\n",
    "plt.xlabel('Number of Neurons',fontsize=16)\n",
    "plt.ylabel('Error rate',fontsize=16)\n",
    "plt.legend(fontsize=16)\n",
    "plt.title('Number of Neurons vs Error (Hidden Layer 1)', fontsize=18)"
   ]
  },
  {
   "cell_type": "code",
   "execution_count": null,
   "metadata": {
    "scrolled": true
   },
   "outputs": [],
   "source": [
    "best_val_locatin_RELU = np.argmin(Val_error_list_RELU)\n",
    "print(\"BEST VALIDATION ERROR\", Val_error_list_RELU[best_val_locatin_RELU])\n",
    "print(\"BEST VALIDATION ACCURACY\", 1 - Val_error_list_RELU[best_val_locatin_RELU])\n",
    "best_val_locatin_RELU"
   ]
  },
  {
   "cell_type": "markdown",
   "metadata": {},
   "source": [
    "# Check Optimal Number of Neurons for Second Layer"
   ]
  },
  {
   "cell_type": "code",
   "execution_count": 106,
   "metadata": {
    "scrolled": true
   },
   "outputs": [
    {
     "name": "stdout",
     "output_type": "stream",
     "text": [
      "Neuron_set_size: 512\n",
      "Epoch 1/5\n",
      "48000/48000 [==============================] - 40s 825us/step - loss: 1.8440 - acc: 0.3357\n",
      "Epoch 2/5\n",
      "48000/48000 [==============================] - 30s 631us/step - loss: 1.6465 - acc: 0.4114\n",
      "Epoch 3/5\n",
      "48000/48000 [==============================] - 28s 592us/step - loss: 1.5567 - acc: 0.4463\n",
      "Epoch 4/5\n",
      "48000/48000 [==============================] - 29s 601us/step - loss: 1.4903 - acc: 0.4677\n",
      "Epoch 5/5\n",
      "48000/48000 [==============================] - 31s 638us/step - loss: 1.4355 - acc: 0.4864\n",
      "48000/48000 [==============================] - 14s 295us/step\n",
      "2000/2000 [==============================] - 1s 417us/step\n",
      "Train error, Val_error 0.4859375 / 0.5335\n",
      "Neuron_set_size: 256\n",
      "Epoch 1/5\n",
      "48000/48000 [==============================] - 28s 580us/step - loss: 1.8484 - acc: 0.3332\n",
      "Epoch 2/5\n",
      "48000/48000 [==============================] - 26s 541us/step - loss: 1.6498 - acc: 0.4083\n",
      "Epoch 3/5\n",
      "48000/48000 [==============================] - 26s 545us/step - loss: 1.5634 - acc: 0.4414\n",
      "Epoch 4/5\n",
      "48000/48000 [==============================] - 26s 542us/step - loss: 1.4978 - acc: 0.4675\n",
      "Epoch 5/5\n",
      "48000/48000 [==============================] - 26s 533us/step - loss: 1.4478 - acc: 0.4830\n",
      "48000/48000 [==============================] - 14s 286us/step\n",
      "2000/2000 [==============================] - 1s 272us/step\n",
      "Train error, Val_error 0.4867916666666666 / 0.5195000000000001\n",
      "Neuron_set_size: 64\n",
      "Epoch 1/5\n",
      "48000/48000 [==============================] - 26s 540us/step - loss: 1.8942 - acc: 0.3130\n",
      "Epoch 2/5\n",
      "48000/48000 [==============================] - 23s 481us/step - loss: 1.6885 - acc: 0.3955\n",
      "Epoch 3/5\n",
      "48000/48000 [==============================] - 25s 516us/step - loss: 1.6075 - acc: 0.4244\n",
      "Epoch 4/5\n",
      "48000/48000 [==============================] - 24s 504us/step - loss: 1.5436 - acc: 0.4498\n",
      "Epoch 5/5\n",
      "48000/48000 [==============================] - 24s 510us/step - loss: 1.4966 - acc: 0.4654\n",
      "48000/48000 [==============================] - 13s 272us/step\n",
      "2000/2000 [==============================] - 1s 260us/step\n",
      "Train error, Val_error 0.5236458333333334 / 0.5655\n",
      "Neuron_set_size: 16\n",
      "Epoch 1/5\n",
      "48000/48000 [==============================] - 26s 536us/step - loss: 2.0527 - acc: 0.2269\n",
      "Epoch 2/5\n",
      "48000/48000 [==============================] - 25s 519us/step - loss: 1.7845 - acc: 0.3575\n",
      "Epoch 3/5\n",
      "48000/48000 [==============================] - 23s 470us/step - loss: 1.6814 - acc: 0.3973\n",
      "Epoch 4/5\n",
      "48000/48000 [==============================] - 23s 477us/step - loss: 1.6095 - acc: 0.4243\n",
      "Epoch 5/5\n",
      "48000/48000 [==============================] - 24s 502us/step - loss: 1.5562 - acc: 0.4413\n",
      "48000/48000 [==============================] - 12s 255us/step\n",
      "2000/2000 [==============================] - 1s 251us/step\n",
      "Train error, Val_error 0.5265 / 0.5409999999999999\n",
      "Nron_size_list_RELU:  [512, 256, 64, 16]\n",
      "Train_error_list_RELU:  [0.4859375, 0.4867916666666666, 0.5236458333333334, 0.5265]\n",
      "Val_error_list_RELU:  [0.5335, 0.5195000000000001, 0.5655, 0.5409999999999999]\n"
     ]
    }
   ],
   "source": [
    "Nron_size_list_RELU = []\n",
    "Train_error_list_RELU = []\n",
    "Val_error_list_RELU = []\n",
    "\n",
    "\n",
    "for j in [512,256,64,16]:\n",
    "    Nron_size_list_RELU.append(j)\n",
    "    print('Neuron_set_size:', j)\n",
    "\n",
    "    model_relu = keras.Sequential([\n",
    "    keras.layers.Flatten(input_shape=(32 , 32, 3)),\n",
    "    keras.layers.Dense(1024, activation=tf.nn.relu),\n",
    "    keras.layers.Dense(j, activation=tf.nn.relu),\n",
    "\n",
    "    keras.layers.Dense(10, activation=tf.nn.softmax)])\n",
    "    model_relu.compile(optimizer=tf.train.GradientDescentOptimizer(\n",
    "    learning_rate=0.05,\n",
    "    use_locking=False,\n",
    "    name='GradientDescent'), \n",
    "\n",
    "    loss='sparse_categorical_crossentropy',\n",
    "    metrics=['accuracy'])\n",
    "\n",
    "    model_relu.fit(X_train, y_train, epochs=5)\n",
    "    train_loss, train_acc = model_relu.evaluate(X_train, y_train)\n",
    "    train_error = 1 - train_acc\n",
    "\n",
    "    val_loss, val_acc = model_relu.evaluate(X_val, y_val)\n",
    "    val_error = 1 - val_acc\n",
    "    print('Train error, Val_error',  train_error, '/', val_error)\n",
    "                                   \n",
    "    Train_error_list_RELU.append(train_error)\n",
    "    Val_error_list_RELU.append(val_error)\n",
    "\n",
    "\n",
    "print(\"Nron_size_list_RELU: \", Nron_size_list_RELU)\n",
    "print(\"Train_error_list_RELU: \", Train_error_list_RELU)\n",
    "print(\"Val_error_list_RELU: \", Val_error_list_RELU)"
   ]
  },
  {
   "cell_type": "code",
   "execution_count": 118,
   "metadata": {},
   "outputs": [
    {
     "data": {
      "text/plain": [
       "Text(0.5,1,'Number of Neurons vs Error (Hidden Layer 2)')"
      ]
     },
     "execution_count": 118,
     "metadata": {},
     "output_type": "execute_result"
    },
    {
     "data": {
      "image/png": "[encoded data removed]",
      "text/plain": [
       "<Figure size 1080x720 with 1 Axes>"
      ]
     },
     "metadata": {
      "needs_background": "light"
     },
     "output_type": "display_data"
    }
   ],
   "source": [
    "plt.figure(figsize = (15,10))\n",
    "plt.plot(Nron_size_list_RELU, Train_error_list_RELU, 'go-', label = \"Training(Relu)\")\n",
    "plt.plot(Nron_size_list_RELU, Val_error_list_RELU, 'yo-', label = \"Validation(Relu)\")\n",
    "plt.xlabel('Number of Neurons',fontsize=16)\n",
    "plt.ylabel('Error rate',fontsize=16)\n",
    "plt.legend(fontsize=16)\n",
    "plt.title('Number of Neurons vs Error (Hidden Layer 2)', fontsize=18)"
   ]
  },
  {
   "cell_type": "code",
   "execution_count": 112,
   "metadata": {},
   "outputs": [
    {
     "name": "stdout",
     "output_type": "stream",
     "text": [
      "BEST VALIDATION ERROR 0.5195000000000001\n",
      "BEST VALIDATION ACCURACY 0.4804999999999999\n"
     ]
    },
    {
     "data": {
      "text/plain": [
       "1"
      ]
     },
     "execution_count": 112,
     "metadata": {},
     "output_type": "execute_result"
    }
   ],
   "source": [
    "best_val_locatin_RELU = np.argmin(Val_error_list_RELU)\n",
    "print(\"BEST VALIDATION ERROR\", Val_error_list_RELU[best_val_locatin_RELU])\n",
    "print(\"BEST VALIDATION ACCURACY\", 1 - Val_error_list_RELU[best_val_locatin_RELU])\n",
    "best_val_locatin_RELU"
   ]
  },
  {
   "cell_type": "markdown",
   "metadata": {},
   "source": [
    "# Check Optimal Number of Neurons for Third Layer"
   ]
  },
  {
   "cell_type": "code",
   "execution_count": 53,
   "metadata": {
    "scrolled": true
   },
   "outputs": [
    {
     "name": "stdout",
     "output_type": "stream",
     "text": [
      "Neuron_set_size: 256\n",
      "Epoch 1/5\n",
      "48000/48000 [==============================] - 28s 578us/step - loss: 1.8612 - acc: 0.3251\n",
      "Epoch 2/5\n",
      "48000/48000 [==============================] - 25s 516us/step - loss: 1.6596 - acc: 0.4057\n",
      "Epoch 3/5\n",
      "48000/48000 [==============================] - 25s 512us/step - loss: 1.5715 - acc: 0.4357\n",
      "Epoch 4/5\n",
      "48000/48000 [==============================] - 27s 564us/step - loss: 1.5034 - acc: 0.4625\n",
      "Epoch 5/5\n",
      "48000/48000 [==============================] - 25s 525us/step - loss: 1.4502 - acc: 0.4818\n",
      "48000/48000 [==============================] - 12s 245us/step\n",
      "2000/2000 [==============================] - 1s 316us/step\n",
      "Train error, Val_error 0.524625 / 0.5605\n",
      "Neuron_set_size: 64\n",
      "Epoch 1/5\n",
      "48000/48000 [==============================] - 26s 541us/step - loss: 1.8837 - acc: 0.3155\n",
      "Epoch 2/5\n",
      "48000/48000 [==============================] - 26s 534us/step - loss: 1.6802 - acc: 0.3970\n",
      "Epoch 3/5\n",
      "48000/48000 [==============================] - 23s 489us/step - loss: 1.5916 - acc: 0.4306\n",
      "Epoch 4/5\n",
      "48000/48000 [==============================] - 23s 473us/step - loss: 1.5295 - acc: 0.4549\n",
      "Epoch 5/5\n",
      "48000/48000 [==============================] - 22s 466us/step - loss: 1.4791 - acc: 0.4695\n",
      "48000/48000 [==============================] - 11s 231us/step\n",
      "2000/2000 [==============================] - 1s 275us/step\n",
      "Train error, Val_error 0.5249375000000001 / 0.5485\n",
      "Neuron_set_size: 16\n",
      "Epoch 1/5\n",
      "48000/48000 [==============================] - 26s 541us/step - loss: 1.9491 - acc: 0.2825\n",
      "Epoch 2/5\n",
      "48000/48000 [==============================] - 27s 562us/step - loss: 1.7249 - acc: 0.3788\n",
      "Epoch 3/5\n",
      "48000/48000 [==============================] - 24s 502us/step - loss: 1.6277 - acc: 0.4172\n",
      "Epoch 4/5\n",
      "48000/48000 [==============================] - 24s 509us/step - loss: 1.5581 - acc: 0.4422\n",
      "Epoch 5/5\n",
      "48000/48000 [==============================] - 23s 481us/step - loss: 1.5041 - acc: 0.4612\n",
      "48000/48000 [==============================] - 10s 215us/step\n",
      "2000/2000 [==============================] - 0s 234us/step\n",
      "Train error, Val_error 0.5224375 / 0.5685\n",
      "Nron_size_list_RELU:  [256, 64, 16]\n",
      "Train_error_list_RELU:  [0.524625, 0.5249375000000001, 0.5224375]\n",
      "Val_error_list_RELU:  [0.5605, 0.5485, 0.5685]\n"
     ]
    }
   ],
   "source": [
    "Nron_size_list_RELU = []\n",
    "Train_error_list_RELU = []\n",
    "Val_error_list_RELU = []\n",
    "\n",
    "\n",
    "for j in [256,64,16]:\n",
    "    Nron_size_list_RELU.append(j)\n",
    "    print('Neuron_set_size:', j)\n",
    "\n",
    "    model_relu = keras.Sequential([\n",
    "    keras.layers.Flatten(input_shape=(32 , 32, 3)),\n",
    "    keras.layers.Dense(1024, activation=tf.nn.relu),\n",
    "    keras.layers.Dense(256, activation=tf.nn.relu),\n",
    "    keras.layers.Dense(j, activation=tf.nn.relu),\n",
    "\n",
    "    keras.layers.Dense(10, activation=tf.nn.softmax)])\n",
    "    model_relu.compile(optimizer=tf.train.GradientDescentOptimizer(\n",
    "    learning_rate=0.05,\n",
    "    use_locking=False,\n",
    "    name='GradientDescent'), \n",
    "\n",
    "    loss='sparse_categorical_crossentropy',\n",
    "    metrics=['accuracy'])\n",
    "\n",
    "    model_relu.fit(X_train, y_train, epochs=5)\n",
    "    train_loss, train_acc = model_relu.evaluate(X_train, y_train)\n",
    "    train_error = 1 - train_acc\n",
    "\n",
    "    val_loss, val_acc = model_relu.evaluate(X_val, y_val)\n",
    "    val_error = 1 - val_acc\n",
    "    print('Train error, Val_error',  train_error, '/', val_error)\n",
    "                                   \n",
    "    Train_error_list_RELU.append(train_error)\n",
    "    Val_error_list_RELU.append(val_error)\n",
    "\n",
    "print(\"Nron_size_list_RELU: \", Nron_size_list_RELU)\n",
    "print(\"Train_error_list_RELU: \", Train_error_list_RELU)\n",
    "print(\"Val_error_list_RELU: \", Val_error_list_RELU)"
   ]
  },
  {
   "cell_type": "markdown",
   "metadata": {},
   "source": [
    "# Check Optimal Number of Neurons for Fourth Layer"
   ]
  },
  {
   "cell_type": "code",
   "execution_count": 54,
   "metadata": {},
   "outputs": [
    {
     "name": "stdout",
     "output_type": "stream",
     "text": [
      "Neuron_set_size: 64\n",
      "Epoch 1/5\n",
      "48000/48000 [==============================] - 28s 579us/step - loss: 1.8866 - acc: 0.3164\n",
      "Epoch 2/5\n",
      "48000/48000 [==============================] - 23s 472us/step - loss: 1.7008 - acc: 0.3895\n",
      "Epoch 3/5\n",
      "48000/48000 [==============================] - 25s 520us/step - loss: 1.6129 - acc: 0.4227\n",
      "Epoch 4/5\n",
      "48000/48000 [==============================] - 27s 560us/step - loss: 1.5512 - acc: 0.4438\n",
      "Epoch 5/5\n",
      "48000/48000 [==============================] - 24s 505us/step - loss: 1.5014 - acc: 0.4641\n",
      "48000/48000 [==============================] - 12s 254us/step\n",
      "2000/2000 [==============================] - 0s 226us/step\n",
      "Train error, Val_error 0.5166666666666666 / 0.5435\n",
      "Neuron_set_size: 16\n",
      "Epoch 1/5\n",
      "48000/48000 [==============================] - 29s 610us/step - loss: 2.0267 - acc: 0.24370s - loss: 2.032\n",
      "Epoch 2/5\n",
      "48000/48000 [==============================] - 44s 921us/step - loss: 1.7665 - acc: 0.3616\n",
      "Epoch 3/5\n",
      "48000/48000 [==============================] - 53s 1ms/step - loss: 1.6583 - acc: 0.4049\n",
      "Epoch 4/5\n",
      "48000/48000 [==============================] - 80s 2ms/step - loss: 1.5893 - acc: 0.4299\n",
      "Epoch 5/5\n",
      "48000/48000 [==============================] - 65s 1ms/step - loss: 1.5330 - acc: 0.4474\n",
      "48000/48000 [==============================] - 39s 822us/step\n",
      "2000/2000 [==============================] - 1s 552us/step\n",
      "Train error, Val_error 0.5818125000000001 / 0.596\n",
      "Nron_size_list_RELU:  [64, 16]\n",
      "Train_error_list_RELU:  [0.5166666666666666, 0.5818125000000001]\n",
      "Val_error_list_RELU:  [0.5435, 0.596]\n"
     ]
    }
   ],
   "source": [
    "Nron_size_list_RELU = []\n",
    "Train_error_list_RELU = []\n",
    "Val_error_list_RELU = []\n",
    "\n",
    "\n",
    "for j in [64,16]:\n",
    "    Nron_size_list_RELU.append(j)\n",
    "    print('Neuron_set_size:', j)\n",
    "\n",
    "    model_relu = keras.Sequential([\n",
    "    keras.layers.Flatten(input_shape=(32 , 32, 3)),\n",
    "    keras.layers.Dense(1024, activation=tf.nn.relu),\n",
    "    keras.layers.Dense(256, activation=tf.nn.relu),\n",
    "    keras.layers.Dense(64, activation=tf.nn.relu),\n",
    "    keras.layers.Dense(j, activation=tf.nn.relu),\n",
    "    keras.layers.Dense(10, activation=tf.nn.softmax)])\n",
    "    model_relu.compile(optimizer=tf.train.GradientDescentOptimizer(\n",
    "    learning_rate=0.05,\n",
    "    use_locking=False,\n",
    "    name='GradientDescent'), \n",
    "\n",
    "    loss='sparse_categorical_crossentropy',\n",
    "    metrics=['accuracy'])\n",
    "\n",
    "    model_relu.fit(X_train, y_train, epochs=5)\n",
    "    train_loss, train_acc = model_relu.evaluate(X_train, y_train)\n",
    "    train_error = 1 - train_acc\n",
    "\n",
    "    val_loss, val_acc = model_relu.evaluate(X_val, y_val)\n",
    "    val_error = 1 - val_acc\n",
    "    print('Train error, Val_error',  train_error, '/', val_error)\n",
    "                                   \n",
    "    Train_error_list_RELU.append(train_error)\n",
    "    Val_error_list_RELU.append(val_error)\n",
    "\n",
    "print(\"Nron_size_list_RELU: \", Nron_size_list_RELU)\n",
    "print(\"Train_error_list_RELU: \", Train_error_list_RELU)\n",
    "print(\"Val_error_list_RELU: \", Val_error_list_RELU)\n"
   ]
  },
  {
   "cell_type": "markdown",
   "metadata": {},
   "source": [
    "# Compare Results for 1, 5, and 10 Epochs"
   ]
  },
  {
   "cell_type": "code",
   "execution_count": 57,
   "metadata": {},
   "outputs": [
    {
     "name": "stdout",
     "output_type": "stream",
     "text": [
      "Epoch 1/10\n",
      "48000/48000 [==============================] - 28s 577us/step - loss: 1.9331 - acc: 0.2917\n",
      "Epoch 2/10\n",
      "48000/48000 [==============================] - 26s 552us/step - loss: 1.7180 - acc: 0.3827\n",
      "Epoch 3/10\n",
      "48000/48000 [==============================] - 26s 542us/step - loss: 1.6261 - acc: 0.4169\n",
      "Epoch 4/10\n",
      "48000/48000 [==============================] - 26s 541us/step - loss: 1.5649 - acc: 0.4402\n",
      "Epoch 5/10\n",
      "48000/48000 [==============================] - 33s 680us/step - loss: 1.5157 - acc: 0.4578\n",
      "Epoch 6/10\n",
      "48000/48000 [==============================] - 48s 1ms/step - loss: 1.4755 - acc: 0.4709\n",
      "Epoch 7/10\n",
      "48000/48000 [==============================] - 46s 965us/step - loss: 1.4365 - acc: 0.4829\n",
      "Epoch 8/10\n",
      "48000/48000 [==============================] - 41s 846us/step - loss: 1.3994 - acc: 0.4982\n",
      "Epoch 9/10\n",
      "48000/48000 [==============================] - 43s 901us/step - loss: 1.3649 - acc: 0.5106\n",
      "Epoch 10/10\n",
      "48000/48000 [==============================] - 40s 839us/step - loss: 1.3330 - acc: 0.5231\n",
      "2000/2000 [==============================] - 4s 2ms/step\n",
      "Relu Validation Accuracy: 0.487\n",
      "Relu Validation Loss: 1.4496962890625\n",
      "Relu Validation Error: 0.513\n"
     ]
    }
   ],
   "source": [
    "model_relu = keras.Sequential([\n",
    "    keras.layers.Flatten(input_shape=(32 , 32, 3)),\n",
    "    keras.layers.Dense(1024, activation=tf.nn.relu),\n",
    "    keras.layers.Dense(256, activation=tf.nn.relu),\n",
    "    keras.layers.Dense(64, activation=tf.nn.relu),\n",
    "    keras.layers.Dense(16, activation=tf.nn.relu),\n",
    "    keras.layers.Dense(10, activation=tf.nn.softmax)\n",
    "])\n",
    "model_relu.compile(optimizer=tf.train.GradientDescentOptimizer(\n",
    "    learning_rate=0.05,\n",
    "    use_locking=False,\n",
    "    name='GradientDescent'), \n",
    "\n",
    "loss='sparse_categorical_crossentropy',\n",
    "metrics=['accuracy'])\n",
    "\n",
    "#model_relu.fit(X_train, y_train, epochs=1)\n",
    "#model_relu.fit(X_train, y_train, epochs=5)\n",
    "model_relu.fit(X_train, y_train, epochs=10)\n",
    "\n",
    "val_loss, val_acc = model_relu.evaluate(X_val, y_val)\n",
    "val_error = 1 - val_acc\n",
    "\n",
    "\n",
    "print('Relu Validation Accuracy:', val_acc)\n",
    "print('Relu Validation Loss:' , val_loss)\n",
    "print('Relu Validation Error:', val_error)"
   ]
  },
  {
   "cell_type": "code",
   "execution_count": 91,
   "metadata": {},
   "outputs": [
    {
     "data": {
      "text/plain": [
       "Text(0.5,1,'Epochs vs Error Rate')"
      ]
     },
     "execution_count": 91,
     "metadata": {},
     "output_type": "execute_result"
    },
    {
     "data": {
      "image/png": "[encoded data removed]",
      "text/plain": [
       "<Figure size 1080x720 with 1 Axes>"
      ]
     },
     "metadata": {
      "needs_background": "light"
     },
     "output_type": "display_data"
    }
   ],
   "source": [
    "x = [10, 100, 500, 1000, 2000, 4000, 8000, 12000, 16000, 24000, 32000, 40000, 48000]\n",
    "\n",
    "y_val_1 = [0.8949, 0.8972, 0.8954, 0.8932, 0.8291, 0.8441, 0.7313, 0.8009, 0.7404, 0.6925, 0.6695, 0.6539, 0.652]\n",
    "y_train_1 = [1, 0.94, 0.906, 0.892, 0.8695, 0.8618, 0.7936, 0.7868, 0.7618, 0.752, 0.7132, 0.7151, 0.7008]\n",
    "\n",
    "y_val_5 = [0.8974, 0.8872, 0.8678, 0.8626, 0.768, 0.6919, 0.641, 0.6381, 0.5981, 0.5833, 0.5763, 0.5761, 0.5355]\n",
    "y_train_5 = [0.7, 0.88, 0.836, 0.783, 0.781, 0.6812, 0.6531, 0.6225, 0.5974, 0.5806, 0.5663, 0.5599, 0.547]\n",
    "\n",
    "y_val_10 = [0.898, 0.8964, 0.7853, 0.803, 0.7425, 0.6898, 0.6286, 0.5897, 0.582, 0.5546, 0.5198, 0.5215, 0.506]\n",
    "y_train_10 = [0.7, 0.8, 0.774, 0.718, 0.669, 0.599, 0.5744, 0.5466, 0.5341, 0.5206, 0.5028, 0.4996, 0.4825]\n",
    "\n",
    "plt.figure(figsize = (15,10))\n",
    "plt.plot(x, y_val_1, 'go-', label = \"Val (1Epoch)\")\n",
    "plt.plot(x, y_train_1, 'yo-', label = \"Train (1Epoch)\")\n",
    "plt.plot(x, y_train_5, 'rs-', label = \"Train (5Epoch)\")\n",
    "plt.plot(x, y_val_5, 'bs-', label = \"Val (5Epoch)\")\n",
    "plt.plot(x, y_train_10, 'k*-', label = \"Train (10Epoch)\")\n",
    "plt.plot(x, y_val_10, 'c*-', label = \"Val (10Epoch)\")\n",
    " \n",
    "\n",
    "plt.xlabel('Training Set Size (Sample numbers)',fontsize=16)\n",
    "plt.ylabel('Error rate',fontsize=16)\n",
    "plt.legend(loc=\"upper right\", fontsize=16)\n",
    "plt.title('Epochs vs Error Rate', fontsize=18)"
   ]
  },
  {
   "cell_type": "markdown",
   "metadata": {},
   "source": [
    "# Simulate and Compare Results of Various Models"
   ]
  },
  {
   "cell_type": "code",
   "execution_count": 59,
   "metadata": {
    "scrolled": true
   },
   "outputs": [
    {
     "name": "stdout",
     "output_type": "stream",
     "text": [
      "Epoch 1/1\n",
      "48000/48000 [==============================] - 40s 830us/step - loss: 1.9214 - acc: 0.2954\n",
      "2000/2000 [==============================] - 1s 699us/step\n",
      "Relu Validation Error: 0.627\n",
      "Epoch 1/4\n",
      "48000/48000 [==============================] - 24s 506us/step - loss: 1.7162 - acc: 0.3819\n",
      "Epoch 2/4\n",
      "48000/48000 [==============================] - 28s 585us/step - loss: 1.6276 - acc: 0.4154\n",
      "Epoch 3/4\n",
      "48000/48000 [==============================] - 27s 554us/step - loss: 1.5685 - acc: 0.4386\n",
      "Epoch 4/4\n",
      "48000/48000 [==============================] - 26s 534us/step - loss: 1.5195 - acc: 0.4566\n",
      "2000/2000 [==============================] - 0s 243us/step\n",
      "Relu Validation Error: 0.5535\n",
      "Epoch 1/5\n",
      "48000/48000 [==============================] - 26s 552us/step - loss: 1.4768 - acc: 0.4717\n",
      "Epoch 2/5\n",
      "48000/48000 [==============================] - 23s 481us/step - loss: 1.4362 - acc: 0.4893\n",
      "Epoch 3/5\n",
      "48000/48000 [==============================] - 23s 479us/step - loss: 1.3982 - acc: 0.4998\n",
      "Epoch 4/5\n",
      "48000/48000 [==============================] - 23s 482us/step - loss: 1.3660 - acc: 0.5102\n",
      "Epoch 5/5\n",
      "48000/48000 [==============================] - 22s 458us/step - loss: 1.3349 - acc: 0.5247\n",
      "2000/2000 [==============================] - 0s 187us/step\n",
      "Relu Validation Error: 0.5035000000000001\n",
      "Epoch 1/5\n",
      "48000/48000 [==============================] - 26s 532us/step - loss: 1.3061 - acc: 0.5326\n",
      "Epoch 2/5\n",
      "48000/48000 [==============================] - 26s 535us/step - loss: 1.2825 - acc: 0.5424\n",
      "Epoch 3/5\n",
      "48000/48000 [==============================] - 25s 529us/step - loss: 1.2518 - acc: 0.5521\n",
      "Epoch 4/5\n",
      "48000/48000 [==============================] - 22s 459us/step - loss: 1.2322 - acc: 0.5605\n",
      "Epoch 5/5\n",
      "48000/48000 [==============================] - 22s 461us/step - loss: 1.1980 - acc: 0.5729\n",
      "2000/2000 [==============================] - 0s 218us/step\n",
      "Relu Validation Error: 0.5145\n",
      "Epoch 1/5\n",
      "48000/48000 [==============================] - 26s 542us/step - loss: 1.1754 - acc: 0.5805\n",
      "Epoch 2/5\n",
      "48000/48000 [==============================] - 26s 533us/step - loss: 1.1505 - acc: 0.5900\n",
      "Epoch 3/5\n",
      "48000/48000 [==============================] - 27s 564us/step - loss: 1.1279 - acc: 0.5969\n",
      "Epoch 4/5\n",
      "48000/48000 [==============================] - 25s 519us/step - loss: 1.1054 - acc: 0.6057\n",
      "Epoch 5/5\n",
      "48000/48000 [==============================] - 25s 531us/step - loss: 1.0832 - acc: 0.6151\n",
      "2000/2000 [==============================] - 1s 253us/step\n",
      "Relu Validation Error: 0.5005\n"
     ]
    }
   ],
   "source": [
    "model_relu = keras.Sequential([\n",
    "    keras.layers.Flatten(input_shape=(32 , 32, 3)),\n",
    "    keras.layers.Dense(1024, activation=tf.nn.relu),\n",
    "    keras.layers.Dense(256, activation=tf.nn.relu),\n",
    "    keras.layers.Dense(64, activation=tf.nn.relu),\n",
    "    keras.layers.Dense(16, activation=tf.nn.relu),\n",
    "    keras.layers.Dense(10, activation=tf.nn.softmax)\n",
    "])\n",
    "model_relu.compile(optimizer=tf.train.GradientDescentOptimizer(\n",
    "    learning_rate=0.05,\n",
    "    use_locking=False,\n",
    "    name='GradientDescent'), \n",
    "\n",
    "loss='sparse_categorical_crossentropy',\n",
    "metrics=['accuracy'])\n",
    "\n",
    "model_relu.fit(X_train, y_train, epochs=1)\n",
    "val_loss, val_acc = model_relu.evaluate(X_val, y_val)\n",
    "val_error = 1 - val_acc\n",
    "print('Relu Validation Error:', val_error)\n",
    "\n",
    "model_relu.fit(X_train, y_train, epochs=4)\n",
    "val_loss, val_acc = model_relu.evaluate(X_val, y_val)\n",
    "val_error = 1 - val_acc\n",
    "print('Relu Validation Error:', val_error)\n",
    "\n",
    "model_relu.fit(X_train, y_train, epochs=5)\n",
    "val_loss, val_acc = model_relu.evaluate(X_val, y_val)\n",
    "val_error = 1 - val_acc\n",
    "print('Relu Validation Error:', val_error)\n",
    "\n",
    "model_relu.fit(X_train, y_train, epochs=5)\n",
    "val_loss, val_acc = model_relu.evaluate(X_val, y_val)\n",
    "val_error = 1 - val_acc\n",
    "print('Relu Validation Error:', val_error)\n",
    "\n",
    "model_relu.fit(X_train, y_train, epochs=5)\n",
    "val_loss, val_acc = model_relu.evaluate(X_val, y_val)\n",
    "val_error = 1 - val_acc\n",
    "print('Relu Validation Error:', val_error)"
   ]
  },
  {
   "cell_type": "code",
   "execution_count": 78,
   "metadata": {
    "scrolled": true
   },
   "outputs": [
    {
     "name": "stdout",
     "output_type": "stream",
     "text": [
      "Epoch 1/1\n",
      "48000/48000 [==============================] - 53s 1ms/step - loss: 1.9455 - acc: 0.2831: 2s\n",
      "2000/2000 [==============================] - 3s 2ms/step\n",
      "Relu Validation Error: 0.6475\n",
      "Epoch 1/4\n",
      "48000/48000 [==============================] - 37s 779us/step - loss: 1.7267 - acc: 0.3776\n",
      "Epoch 2/4\n",
      "48000/48000 [==============================] - 36s 745us/step - loss: 1.6331 - acc: 0.4114\n",
      "Epoch 3/4\n",
      "48000/48000 [==============================] - 37s 777us/step - loss: 1.5633 - acc: 0.43801s - los\n",
      "Epoch 4/4\n",
      "48000/48000 [==============================] - 34s 706us/step - loss: 1.5138 - acc: 0.4562\n",
      "2000/2000 [==============================] - 1s 351us/step\n",
      "Relu Validation Error: 0.5509999999999999\n",
      "Epoch 1/5\n",
      "48000/48000 [==============================] - 36s 746us/step - loss: 1.4699 - acc: 0.4705\n",
      "Epoch 2/5\n",
      "48000/48000 [==============================] - 33s 680us/step - loss: 1.4301 - acc: 0.4867\n",
      "Epoch 3/5\n",
      "48000/48000 [==============================] - 31s 642us/step - loss: 1.3916 - acc: 0.5023\n",
      "Epoch 4/5\n",
      "48000/48000 [==============================] - 42s 880us/step - loss: 1.3587 - acc: 0.5110\n",
      "Epoch 5/5\n",
      "48000/48000 [==============================] - 33s 687us/step - loss: 1.3265 - acc: 0.5223\n",
      "2000/2000 [==============================] - 1s 475us/step\n",
      "Relu Validation Error: 0.53\n",
      "Epoch 1/5\n",
      "48000/48000 [==============================] - 51s 1ms/step - loss: 1.2982 - acc: 0.5322\n",
      "Epoch 2/5\n",
      "48000/48000 [==============================] - 50s 1ms/step - loss: 1.2662 - acc: 0.5439\n",
      "Epoch 3/5\n",
      "48000/48000 [==============================] - 45s 934us/step - loss: 1.2448 - acc: 0.5521\n",
      "Epoch 4/5\n",
      "48000/48000 [==============================] - 37s 771us/step - loss: 1.2163 - acc: 0.5629\n",
      "Epoch 5/5\n",
      "48000/48000 [==============================] - 28s 592us/step - loss: 1.1878 - acc: 0.5721\n",
      "2000/2000 [==============================] - 1s 379us/step\n",
      "Relu Validation Error: 0.5425\n",
      "Epoch 1/5\n",
      "48000/48000 [==============================] - 31s 656us/step - loss: 1.1653 - acc: 0.5796\n",
      "Epoch 2/5\n",
      "48000/48000 [==============================] - 30s 617us/step - loss: 1.1438 - acc: 0.5887\n",
      "Epoch 3/5\n",
      "48000/48000 [==============================] - 26s 538us/step - loss: 1.1161 - acc: 0.5961\n",
      "Epoch 4/5\n",
      "48000/48000 [==============================] - 25s 531us/step - loss: 1.0896 - acc: 0.6076\n",
      "Epoch 5/5\n",
      "48000/48000 [==============================] - 26s 547us/step - loss: 1.0654 - acc: 0.6160\n",
      "2000/2000 [==============================] - 1s 335us/step\n",
      "Relu Validation Error: 0.481\n"
     ]
    }
   ],
   "source": [
    "model_relu = keras.Sequential([\n",
    "    keras.layers.Flatten(input_shape=(32 , 32, 3)),\n",
    "    keras.layers.Dense(1024, activation=tf.nn.relu),\n",
    "    keras.layers.Dense(256, activation=tf.nn.relu),\n",
    "    keras.layers.Dense(64, activation=tf.nn.relu),\n",
    "    keras.layers.Dense(16, activation=tf.nn.relu),\n",
    "    keras.layers.Dense(10, activation=tf.nn.sigmoid)\n",
    "])\n",
    "model_relu.compile(optimizer=tf.train.GradientDescentOptimizer(\n",
    "    learning_rate=0.05,\n",
    "    use_locking=False,\n",
    "    name='GradientDescent'), \n",
    "\n",
    "loss='sparse_categorical_crossentropy',\n",
    "metrics=['accuracy'])\n",
    "\n",
    "model_relu.fit(X_train, y_train, epochs=1)\n",
    "val_loss, val_acc = model_relu.evaluate(X_val, y_val)\n",
    "val_error = 1 - val_acc\n",
    "print('Relu Validation Error:', val_error)\n",
    "\n",
    "model_relu.fit(X_train, y_train, epochs=4)\n",
    "val_loss, val_acc = model_relu.evaluate(X_val, y_val)\n",
    "val_error = 1 - val_acc\n",
    "print('Relu Validation Error:', val_error)\n",
    "\n",
    "model_relu.fit(X_train, y_train, epochs=5)\n",
    "val_loss, val_acc = model_relu.evaluate(X_val, y_val)\n",
    "val_error = 1 - val_acc\n",
    "print('Relu Validation Error:', val_error)\n",
    "\n",
    "model_relu.fit(X_train, y_train, epochs=5)\n",
    "val_loss, val_acc = model_relu.evaluate(X_val, y_val)\n",
    "val_error = 1 - val_acc\n",
    "print('Relu Validation Error:', val_error)\n",
    "\n",
    "model_relu.fit(X_train, y_train, epochs=5)\n",
    "val_loss, val_acc = model_relu.evaluate(X_val, y_val)\n",
    "val_error = 1 - val_acc\n",
    "print('Relu Validation Error:', val_error)"
   ]
  },
  {
   "cell_type": "code",
   "execution_count": 60,
   "metadata": {
    "scrolled": true
   },
   "outputs": [
    {
     "name": "stdout",
     "output_type": "stream",
     "text": [
      "Epoch 1/1\n",
      "48000/48000 [==============================] - 24s 497us/step - loss: 9.6677 - acc: 0.1000\n",
      "2000/2000 [==============================] - 1s 396us/step\n",
      "Relu Validation Error: 0.899\n",
      "Epoch 1/4\n",
      "48000/48000 [==============================] - 26s 538us/step - loss: 9.6692 - acc: 0.1000\n",
      "Epoch 2/4\n",
      "48000/48000 [==============================] - 26s 537us/step - loss: 9.6692 - acc: 0.1000\n",
      "Epoch 3/4\n",
      "48000/48000 [==============================] - 23s 485us/step - loss: 9.6692 - acc: 0.1000\n",
      "Epoch 4/4\n",
      "48000/48000 [==============================] - 26s 535us/step - loss: 9.6692 - acc: 0.1000\n",
      "2000/2000 [==============================] - 1s 297us/step\n",
      "Relu Validation Error: 0.899\n",
      "Epoch 1/5\n",
      "48000/48000 [==============================] - 24s 500us/step - loss: 9.6692 - acc: 0.1000\n",
      "Epoch 2/5\n",
      "48000/48000 [==============================] - 28s 582us/step - loss: 9.6692 - acc: 0.1000\n",
      "Epoch 3/5\n",
      "48000/48000 [==============================] - 27s 568us/step - loss: 9.6692 - acc: 0.1000\n",
      "Epoch 4/5\n",
      "48000/48000 [==============================] - 26s 545us/step - loss: 9.6692 - acc: 0.1000\n",
      "Epoch 5/5\n",
      "48000/48000 [==============================] - 28s 581us/step - loss: 9.6692 - acc: 0.1000\n",
      "2000/2000 [==============================] - 1s 258us/step\n",
      "Relu Validation Error: 0.899\n",
      "Epoch 1/5\n",
      "48000/48000 [==============================] - 26s 542us/step - loss: 9.6692 - acc: 0.1000\n",
      "Epoch 2/5\n",
      "48000/48000 [==============================] - 24s 501us/step - loss: 9.6692 - acc: 0.1000\n",
      "Epoch 3/5\n",
      "48000/48000 [==============================] - 24s 505us/step - loss: 9.6692 - acc: 0.1000\n",
      "Epoch 4/5\n",
      "48000/48000 [==============================] - 25s 512us/step - loss: 9.6692 - acc: 0.1000\n",
      "Epoch 5/5\n",
      "48000/48000 [==============================] - 25s 513us/step - loss: 9.6692 - acc: 0.1000\n",
      "2000/2000 [==============================] - 0s 237us/step\n",
      "Relu Validation Error: 0.899\n",
      "Epoch 1/5\n",
      "48000/48000 [==============================] - 28s 581us/step - loss: 9.6692 - acc: 0.1000\n",
      "Epoch 2/5\n",
      "48000/48000 [==============================] - 27s 556us/step - loss: 9.6692 - acc: 0.1000\n",
      "Epoch 3/5\n",
      "48000/48000 [==============================] - 31s 638us/step - loss: 9.6692 - acc: 0.1000\n",
      "Epoch 4/5\n",
      "48000/48000 [==============================] - 37s 765us/step - loss: 9.6692 - acc: 0.1000\n",
      "Epoch 5/5\n",
      "48000/48000 [==============================] - 31s 648us/step - loss: 9.6692 - acc: 0.1000\n",
      "2000/2000 [==============================] - 1s 339us/step\n",
      "Relu Validation Error: 0.899\n"
     ]
    }
   ],
   "source": [
    "model_relu = keras.Sequential([\n",
    "    keras.layers.Flatten(input_shape=(32 , 32, 3)),\n",
    "    keras.layers.Dense(1024, activation=tf.nn.relu),\n",
    "    keras.layers.Dense(256, activation=tf.nn.relu),\n",
    "    keras.layers.Dense(64, activation=tf.nn.relu),\n",
    "    keras.layers.Dense(16, activation=tf.nn.relu),\n",
    "    keras.layers.Dense(10, activation=tf.nn.tanh)\n",
    "])\n",
    "model_relu.compile(optimizer=tf.train.GradientDescentOptimizer(\n",
    "    learning_rate=0.05,\n",
    "    use_locking=False,\n",
    "    name='GradientDescent'), \n",
    "\n",
    "loss='sparse_categorical_crossentropy',\n",
    "metrics=['accuracy'])\n",
    "\n",
    "model_relu.fit(X_train, y_train, epochs=1)\n",
    "val_loss, val_acc = model_relu.evaluate(X_val, y_val)\n",
    "val_error = 1 - val_acc\n",
    "print('Relu Validation Error:', val_error)\n",
    "\n",
    "model_relu.fit(X_train, y_train, epochs=4)\n",
    "val_loss, val_acc = model_relu.evaluate(X_val, y_val)\n",
    "val_error = 1 - val_acc\n",
    "print('Relu Validation Error:', val_error)\n",
    "\n",
    "model_relu.fit(X_train, y_train, epochs=5)\n",
    "val_loss, val_acc = model_relu.evaluate(X_val, y_val)\n",
    "val_error = 1 - val_acc\n",
    "print('Relu Validation Error:', val_error)\n",
    "\n",
    "model_relu.fit(X_train, y_train, epochs=5)\n",
    "val_loss, val_acc = model_relu.evaluate(X_val, y_val)\n",
    "val_error = 1 - val_acc\n",
    "print('Relu Validation Error:', val_error)\n",
    "\n",
    "model_relu.fit(X_train, y_train, epochs=5)\n",
    "val_loss, val_acc = model_relu.evaluate(X_val, y_val)\n",
    "val_error = 1 - val_acc\n",
    "print('Relu Validation Error:', val_error)"
   ]
  },
  {
   "cell_type": "code",
   "execution_count": 77,
   "metadata": {
    "scrolled": true
   },
   "outputs": [
    {
     "name": "stdout",
     "output_type": "stream",
     "text": [
      "Epoch 1/1\n",
      "48000/48000 [==============================] - 30s 618us/step - loss: 2.3009 - acc: 0.1126\n",
      "2000/2000 [==============================] - 2s 772us/step\n",
      "Sigmoid Validation Error: 0.8785000000000001\n",
      "Epoch 1/4\n",
      "48000/48000 [==============================] - 27s 557us/step - loss: 2.2136 - acc: 0.1677\n",
      "Epoch 2/4\n",
      "48000/48000 [==============================] - 26s 539us/step - loss: 2.0648 - acc: 0.2063\n",
      "Epoch 3/4\n",
      "48000/48000 [==============================] - 25s 531us/step - loss: 2.0233 - acc: 0.2270\n",
      "Epoch 4/4\n",
      "48000/48000 [==============================] - 25s 518us/step - loss: 1.9578 - acc: 0.2633\n",
      "2000/2000 [==============================] - 0s 240us/step\n",
      "Sigmoid Validation Error: 0.7395\n",
      "Epoch 1/5\n",
      "48000/48000 [==============================] - 26s 550us/step - loss: 1.9205 - acc: 0.2825\n",
      "Epoch 2/5\n",
      "48000/48000 [==============================] - 24s 497us/step - loss: 1.8973 - acc: 0.2996\n",
      "Epoch 3/5\n",
      "48000/48000 [==============================] - 25s 518us/step - loss: 1.8712 - acc: 0.3150\n",
      "Epoch 4/5\n",
      "48000/48000 [==============================] - 26s 544us/step - loss: 1.8496 - acc: 0.3232\n",
      "Epoch 5/5\n",
      "48000/48000 [==============================] - 26s 534us/step - loss: 1.8267 - acc: 0.3325\n",
      "2000/2000 [==============================] - 0s 238us/step\n",
      "Sigmoid Validation Error: 0.6785\n",
      "Epoch 1/5\n",
      "48000/48000 [==============================] - 25s 529us/step - loss: 1.8026 - acc: 0.3426\n",
      "Epoch 2/5\n",
      "48000/48000 [==============================] - 25s 530us/step - loss: 1.7762 - acc: 0.3532\n",
      "Epoch 3/5\n",
      "48000/48000 [==============================] - 25s 527us/step - loss: 1.7559 - acc: 0.3611\n",
      "Epoch 4/5\n",
      "48000/48000 [==============================] - 25s 512us/step - loss: 1.7351 - acc: 0.3703\n",
      "Epoch 5/5\n",
      "48000/48000 [==============================] - 25s 512us/step - loss: 1.7169 - acc: 0.3773\n",
      "2000/2000 [==============================] - 1s 261us/step\n",
      "Sigmoid Validation Error: 0.6425000000000001\n",
      "Epoch 1/5\n",
      "48000/48000 [==============================] - 26s 534us/step - loss: 1.6979 - acc: 0.3846\n",
      "Epoch 2/5\n",
      "48000/48000 [==============================] - 25s 526us/step - loss: 1.6809 - acc: 0.3886\n",
      "Epoch 3/5\n",
      "48000/48000 [==============================] - 29s 595us/step - loss: 1.6625 - acc: 0.3965\n",
      "Epoch 4/5\n",
      "48000/48000 [==============================] - 28s 591us/step - loss: 1.6458 - acc: 0.4034\n",
      "Epoch 5/5\n",
      "48000/48000 [==============================] - 27s 564us/step - loss: 1.6268 - acc: 0.4096\n",
      "2000/2000 [==============================] - 1s 258us/step\n",
      "Sigmoid Validation Error: 0.5994999999999999\n"
     ]
    }
   ],
   "source": [
    "model_sigmoid = keras.Sequential([\n",
    "    keras.layers.Flatten(input_shape=(32 , 32, 3)),\n",
    "    keras.layers.Dense(1024, activation=tf.nn.sigmoid),\n",
    "    keras.layers.Dense(256, activation=tf.nn.sigmoid),\n",
    "    keras.layers.Dense(64, activation=tf.nn.sigmoid),\n",
    "    keras.layers.Dense(16, activation=tf.nn.sigmoid),\n",
    "    keras.layers.Dense(10, activation=tf.nn.softmax)\n",
    "])\n",
    "\n",
    "model_sigmoid.compile(optimizer=tf.train.GradientDescentOptimizer(\n",
    "    learning_rate=0.05,\n",
    "    use_locking=False,\n",
    "    name='GradientDescent'), \n",
    "\n",
    "loss='sparse_categorical_crossentropy',\n",
    "metrics=['accuracy'])\n",
    "\n",
    "model_sigmoid.fit(X_train, y_train, epochs=1)\n",
    "val_loss, val_acc = model_sigmoid.evaluate(X_val, y_val)\n",
    "val_error = 1 - val_acc\n",
    "print('Sigmoid Validation Error:', val_error)\n",
    "model_sigmoid.fit(X_train, y_train, epochs=4)\n",
    "val_loss, val_acc = model_sigmoid.evaluate(X_val, y_val)\n",
    "val_error = 1 - val_acc\n",
    "print('Sigmoid Validation Error:', val_error)\n",
    "model_sigmoid.fit(X_train, y_train, epochs=5)\n",
    "val_loss, val_acc = model_sigmoid.evaluate(X_val, y_val)\n",
    "val_error = 1 - val_acc\n",
    "print('Sigmoid Validation Error:', val_error)\n",
    "model_sigmoid.fit(X_train, y_train, epochs=5)\n",
    "val_loss, val_acc = model_sigmoid.evaluate(X_val, y_val)\n",
    "val_error = 1 - val_acc\n",
    "print('Sigmoid Validation Error:', val_error)\n",
    "model_sigmoid.fit(X_train, y_train, epochs=5)\n",
    "val_loss, val_acc = model_sigmoid.evaluate(X_val, y_val)\n",
    "val_error = 1 - val_acc\n",
    "print('Sigmoid Validation Error:', val_error)"
   ]
  },
  {
   "cell_type": "code",
   "execution_count": 63,
   "metadata": {
    "scrolled": true
   },
   "outputs": [
    {
     "name": "stdout",
     "output_type": "stream",
     "text": [
      "Epoch 1/1\n",
      "48000/48000 [==============================] - 26s 537us/step - loss: 1.8976 - acc: 0.3124\n",
      "2000/2000 [==============================] - 1s 495us/step\n",
      "Tanh Validation Error: 0.623\n",
      "Epoch 1/4\n",
      "48000/48000 [==============================] - 25s 528us/step - loss: 1.6943 - acc: 0.3910\n",
      "Epoch 2/4\n",
      "48000/48000 [==============================] - 23s 481us/step - loss: 1.6126 - acc: 0.4239\n",
      "Epoch 3/4\n",
      "48000/48000 [==============================] - 24s 495us/step - loss: 1.5576 - acc: 0.4427\n",
      "Epoch 4/4\n",
      "48000/48000 [==============================] - 25s 519us/step - loss: 1.5137 - acc: 0.4590\n",
      "2000/2000 [==============================] - 1s 266us/step\n",
      "Tanh Validation Error: 0.5660000000000001\n",
      "Epoch 1/5\n",
      "48000/48000 [==============================] - 25s 521us/step - loss: 1.4801 - acc: 0.4709\n",
      "Epoch 2/5\n",
      "48000/48000 [==============================] - 25s 527us/step - loss: 1.4471 - acc: 0.4818\n",
      "Epoch 3/5\n",
      "48000/48000 [==============================] - 34s 709us/step - loss: 1.4213 - acc: 0.4922\n",
      "Epoch 4/5\n",
      "48000/48000 [==============================] - 30s 626us/step - loss: 1.3931 - acc: 0.5031\n",
      "Epoch 5/5\n",
      "48000/48000 [==============================] - 26s 532us/step - loss: 1.3666 - acc: 0.5137\n",
      "2000/2000 [==============================] - 1s 358us/step\n",
      "Tanh Validation Error: 0.5225\n",
      "Epoch 1/5\n",
      "48000/48000 [==============================] - 26s 542us/step - loss: 1.3453 - acc: 0.5209\n",
      "Epoch 2/5\n",
      "48000/48000 [==============================] - 27s 570us/step - loss: 1.3185 - acc: 0.5336\n",
      "Epoch 3/5\n",
      "48000/48000 [==============================] - 27s 560us/step - loss: 1.3004 - acc: 0.5372\n",
      "Epoch 4/5\n",
      "48000/48000 [==============================] - 26s 547us/step - loss: 1.2770 - acc: 0.5468\n",
      "Epoch 5/5\n",
      "48000/48000 [==============================] - 26s 543us/step - loss: 1.2533 - acc: 0.5550\n",
      "2000/2000 [==============================] - 1s 260us/step\n",
      "Tanh Validation Error: 0.5329999999999999\n",
      "Epoch 1/5\n",
      "48000/48000 [==============================] - 25s 520us/step - loss: 1.2370 - acc: 0.5600\n",
      "Epoch 2/5\n",
      "48000/48000 [==============================] - 26s 532us/step - loss: 1.2148 - acc: 0.5691\n",
      "Epoch 3/5\n",
      "48000/48000 [==============================] - 33s 684us/step - loss: 1.1969 - acc: 0.5747\n",
      "Epoch 4/5\n",
      "48000/48000 [==============================] - 28s 578us/step - loss: 1.1790 - acc: 0.5831\n",
      "Epoch 5/5\n",
      "48000/48000 [==============================] - 25s 528us/step - loss: 1.1626 - acc: 0.5862\n",
      "2000/2000 [==============================] - 1s 309us/step\n",
      "Tanh Validation Error: 0.5215000000000001\n"
     ]
    }
   ],
   "source": [
    "model_tanh = keras.Sequential([\n",
    "    keras.layers.Flatten(input_shape=(32 , 32, 3)),\n",
    "    keras.layers.Dense(1024, activation=tf.nn.tanh),\n",
    "    keras.layers.Dense(256, activation=tf.nn.tanh),\n",
    "    keras.layers.Dense(64, activation=tf.nn.tanh),\n",
    "    keras.layers.Dense(16, activation=tf.nn.tanh),\n",
    "    keras.layers.Dense(10, activation=tf.nn.softmax)\n",
    "])\n",
    "\n",
    "model_tanh.compile(optimizer=tf.train.GradientDescentOptimizer(\n",
    "    learning_rate=0.05,\n",
    "    use_locking=False,\n",
    "    name='GradientDescent'), \n",
    "\n",
    "loss='sparse_categorical_crossentropy',\n",
    "metrics=['accuracy'])\n",
    "\n",
    "model_tanh.fit(X_train, y_train, epochs=1)\n",
    "val_loss, val_acc = model_tanh.evaluate(X_val, y_val)\n",
    "val_error = 1 - val_acc\n",
    "print('Tanh Validation Error:', val_error)\n",
    "model_tanh.fit(X_train, y_train, epochs=4)\n",
    "val_loss, val_acc = model_tanh.evaluate(X_val, y_val)\n",
    "val_error = 1 - val_acc\n",
    "print('Tanh Validation Error:', val_error)\n",
    "model_tanh.fit(X_train, y_train, epochs=5)\n",
    "val_loss, val_acc = model_tanh.evaluate(X_val, y_val)\n",
    "val_error = 1 - val_acc\n",
    "print('Tanh Validation Error:', val_error)\n",
    "model_tanh.fit(X_train, y_train, epochs=5)\n",
    "val_loss, val_acc = model_tanh.evaluate(X_val, y_val)\n",
    "val_error = 1 - val_acc\n",
    "print('Tanh Validation Error:', val_error)\n",
    "model_tanh.fit(X_train, y_train, epochs=5)\n",
    "val_loss, val_acc = model_tanh.evaluate(X_val, y_val)\n",
    "val_error = 1 - val_acc\n",
    "print('Tanh Validation Error:', val_error)"
   ]
  },
  {
   "cell_type": "code",
   "execution_count": 64,
   "metadata": {
    "scrolled": true
   },
   "outputs": [
    {
     "name": "stdout",
     "output_type": "stream",
     "text": [
      "Epoch 1/1\n",
      "48000/48000 [==============================] - 27s 553us/step - loss: 1.9563 - acc: 0.2877\n",
      "2000/2000 [==============================] - 1s 528us/step\n",
      "Tanh Validation Error: 0.6775\n",
      "Epoch 1/4\n",
      "48000/48000 [==============================] - 24s 501us/step - loss: 1.7583 - acc: 0.3675\n",
      "Epoch 2/4\n",
      "48000/48000 [==============================] - 25s 513us/step - loss: 1.6624 - acc: 0.4037\n",
      "Epoch 3/4\n",
      "48000/48000 [==============================] - 25s 513us/step - loss: 1.6040 - acc: 0.4276\n",
      "Epoch 4/4\n",
      "48000/48000 [==============================] - 25s 527us/step - loss: 1.5576 - acc: 0.4440\n",
      "2000/2000 [==============================] - 1s 265us/step\n",
      "Tanh Validation Error: 0.5589999999999999\n",
      "Epoch 1/5\n",
      "48000/48000 [==============================] - 27s 554us/step - loss: 1.5165 - acc: 0.4612\n",
      "Epoch 2/5\n",
      "48000/48000 [==============================] - 27s 559us/step - loss: 1.4850 - acc: 0.4726\n",
      "Epoch 3/5\n",
      "48000/48000 [==============================] - 25s 521us/step - loss: 1.4547 - acc: 0.4811\n",
      "Epoch 4/5\n",
      "48000/48000 [==============================] - 35s 723us/step - loss: 1.4310 - acc: 0.4925\n",
      "Epoch 5/5\n",
      "48000/48000 [==============================] - 29s 600us/step - loss: 1.4045 - acc: 0.5033\n",
      "2000/2000 [==============================] - 1s 330us/step\n",
      "Tanh Validation Error: 0.544\n",
      "Epoch 1/5\n",
      "48000/48000 [==============================] - 26s 547us/step - loss: 1.3808 - acc: 0.5126\n",
      "Epoch 2/5\n",
      "48000/48000 [==============================] - 27s 555us/step - loss: 1.3560 - acc: 0.5206\n",
      "Epoch 3/5\n",
      "48000/48000 [==============================] - 24s 503us/step - loss: 1.3368 - acc: 0.5257\n",
      "Epoch 4/5\n",
      "48000/48000 [==============================] - 22s 467us/step - loss: 1.3154 - acc: 0.5343\n",
      "Epoch 5/5\n",
      "48000/48000 [==============================] - 26s 532us/step - loss: 1.2965 - acc: 0.5420\n",
      "2000/2000 [==============================] - 0s 246us/step\n",
      "Tanh Validation Error: 0.519\n",
      "Epoch 1/5\n",
      "48000/48000 [==============================] - 26s 545us/step - loss: 1.2755 - acc: 0.5479\n",
      "Epoch 2/5\n",
      "48000/48000 [==============================] - 24s 491us/step - loss: 1.2575 - acc: 0.5582\n",
      "Epoch 3/5\n",
      "48000/48000 [==============================] - 25s 511us/step - loss: 1.2337 - acc: 0.5656\n",
      "Epoch 4/5\n",
      "48000/48000 [==============================] - 25s 527us/step - loss: 1.2194 - acc: 0.5670\n",
      "Epoch 5/5\n",
      "48000/48000 [==============================] - 25s 525us/step - loss: 1.2006 - acc: 0.5785\n",
      "2000/2000 [==============================] - 0s 244us/step\n",
      "Tanh Validation Error: 0.5125\n"
     ]
    }
   ],
   "source": [
    "model_tanh = keras.Sequential([\n",
    "    keras.layers.Flatten(input_shape=(32 , 32, 3)),\n",
    "    keras.layers.Dense(1024, activation=tf.nn.tanh),\n",
    "    keras.layers.Dense(256, activation=tf.nn.tanh),\n",
    "    keras.layers.Dense(64, activation=tf.nn.tanh),\n",
    "    keras.layers.Dense(16, activation=tf.nn.tanh),\n",
    "    keras.layers.Dense(10, activation=tf.nn.sigmoid)\n",
    "])\n",
    "\n",
    "model_tanh.compile(optimizer=tf.train.GradientDescentOptimizer(\n",
    "    learning_rate=0.05,\n",
    "    use_locking=False,\n",
    "    name='GradientDescent'), \n",
    "\n",
    "loss='sparse_categorical_crossentropy',\n",
    "metrics=['accuracy'])\n",
    "\n",
    "model_tanh.fit(X_train, y_train, epochs=1)\n",
    "val_loss, val_acc = model_tanh.evaluate(X_val, y_val)\n",
    "val_error = 1 - val_acc\n",
    "print('Tanh Validation Error:', val_error)\n",
    "model_tanh.fit(X_train, y_train, epochs=4)\n",
    "val_loss, val_acc = model_tanh.evaluate(X_val, y_val)\n",
    "val_error = 1 - val_acc\n",
    "print('Tanh Validation Error:', val_error)\n",
    "model_tanh.fit(X_train, y_train, epochs=5)\n",
    "val_loss, val_acc = model_tanh.evaluate(X_val, y_val)\n",
    "val_error = 1 - val_acc\n",
    "print('Tanh Validation Error:', val_error)\n",
    "model_tanh.fit(X_train, y_train, epochs=5)\n",
    "val_loss, val_acc = model_tanh.evaluate(X_val, y_val)\n",
    "val_error = 1 - val_acc\n",
    "print('Tanh Validation Error:', val_error)\n",
    "model_tanh.fit(X_train, y_train, epochs=5)\n",
    "val_loss, val_acc = model_tanh.evaluate(X_val, y_val)\n",
    "val_error = 1 - val_acc\n",
    "print('Tanh Validation Error:', val_error)"
   ]
  },
  {
   "cell_type": "code",
   "execution_count": 95,
   "metadata": {
    "scrolled": false
   },
   "outputs": [
    {
     "data": {
      "text/plain": [
       "Text(0.5,1,'Models vs Error Rate (Val)')"
      ]
     },
     "execution_count": 95,
     "metadata": {},
     "output_type": "execute_result"
    },
    {
     "data": {
      "image/png": "[encoded data removed]",
      "text/plain": [
       "<Figure size 1080x720 with 1 Axes>"
      ]
     },
     "metadata": {
      "needs_background": "light"
     },
     "output_type": "display_data"
    }
   ],
   "source": [
    "x_epochs=[1, 5, 10, 15, 20]\n",
    "y_tanh_softmax=[0.642, 0.5695, 0.517, 0.5165, 0.5265]\n",
    "y_tanh_sigmoid=[0.6635, 0.569, 0.544, 0.53, 0.526]\n",
    "y_relu_softmax=[0.6495, 0.5485, 0.518, 0.5215, 0.4914]\n",
    "y_relu_sigmoid=[0.669, 0.5535, 0.529, 0.5005, 0.4935]\n",
    "y_relu_tanh=[0.8975, 0.9065, 0.8995, 0.8915, 0.8915]\n",
    "y_sigmoid_softmax =[0.8965, 0.7465, 0.6955, 0.641, 0.623]\n",
    "\n",
    "plt.figure(figsize = (15,10))\n",
    "plt.plot(x_epochs, y_tanh_softmax, 'go-', label = \"Tanh_Softmax (Val)\")\n",
    "plt.plot(x_epochs, y_tanh_sigmoid, 'yo-', label = \"Tanh_Sigmoid (Val)\")\n",
    "plt.plot(x_epochs, y_relu_softmax, 'rs-', label = \"Relu_Softmax (Val)\")\n",
    "plt.plot(x_epochs, y_relu_sigmoid, 'bs-', label = \"Relu_Sigmoid (Val)\")\n",
    "plt.plot(x_epochs, y_relu_tanh, 'k*-', label = \"Relu_Tanh (Val)\")\n",
    "plt.plot(x_epochs, y_sigmoid_softmax, 'c*-', label = \"Sigmoid_Softmax (Val)\")\n",
    " \n",
    "\n",
    "plt.xlabel('Epochs',fontsize=16)\n",
    "plt.ylabel('Error rate',fontsize=16)\n",
    "plt.legend(loc=\"upper right\", fontsize=16)\n",
    "plt.title('Models vs Error Rate (Val)', fontsize=18)"
   ]
  },
  {
   "cell_type": "markdown",
   "metadata": {},
   "source": [
    "# Compare Learning Rates of 0.01, 0.05, and 0.1"
   ]
  },
  {
   "cell_type": "code",
   "execution_count": 85,
   "metadata": {
    "scrolled": true
   },
   "outputs": [
    {
     "name": "stdout",
     "output_type": "stream",
     "text": [
      "Epoch 1/5\n",
      "48000/48000 [==============================] - 26s 541us/step - loss: 1.9345 - acc: 0.3066\n",
      "Epoch 2/5\n",
      "48000/48000 [==============================] - 24s 506us/step - loss: 1.7120 - acc: 0.3891\n",
      "Epoch 3/5\n",
      "48000/48000 [==============================] - 25s 525us/step - loss: 1.6238 - acc: 0.4203\n",
      "Epoch 4/5\n",
      "48000/48000 [==============================] - 24s 510us/step - loss: 1.5547 - acc: 0.4477\n",
      "Epoch 5/5\n",
      "48000/48000 [==============================] - 24s 498us/step - loss: 1.5042 - acc: 0.4647\n",
      "2000/2000 [==============================] - 1s 625us/step\n",
      "Relu Validation Error: 0.5645\n",
      "Epoch 1/5\n",
      "48000/48000 [==============================] - 25s 518us/step - loss: 1.9503 - acc: 0.2909\n",
      "Epoch 2/5\n",
      "48000/48000 [==============================] - 24s 490us/step - loss: 1.7300 - acc: 0.3763\n",
      "Epoch 3/5\n",
      "48000/48000 [==============================] - 23s 485us/step - loss: 1.6403 - acc: 0.4118\n",
      "Epoch 4/5\n",
      "48000/48000 [==============================] - 24s 499us/step - loss: 1.5767 - acc: 0.4354\n",
      "Epoch 5/5\n",
      "48000/48000 [==============================] - 24s 496us/step - loss: 1.5268 - acc: 0.4549\n",
      "2000/2000 [==============================] - 1s 584us/step\n",
      "Relu Validation Error: 0.5485\n",
      "Epoch 1/5\n",
      "48000/48000 [==============================] - 26s 535us/step - loss: 2.0005 - acc: 0.2565\n",
      "Epoch 2/5\n",
      "48000/48000 [==============================] - 24s 502us/step - loss: 1.7905 - acc: 0.3526\n",
      "Epoch 3/5\n",
      "48000/48000 [==============================] - 25s 511us/step - loss: 1.6983 - acc: 0.3895\n",
      "Epoch 4/5\n",
      "48000/48000 [==============================] - 25s 525us/step - loss: 1.6336 - acc: 0.4124\n",
      "Epoch 5/5\n",
      "48000/48000 [==============================] - 25s 530us/step - loss: 1.5867 - acc: 0.4307\n",
      "2000/2000 [==============================] - 1s 608us/step\n",
      "Relu Validation Error: 0.5725\n"
     ]
    }
   ],
   "source": [
    "for j in [0.01, 0.05, 0.1]:\n",
    "    model_relu = keras.Sequential([\n",
    "        keras.layers.Flatten(input_shape=(32 , 32, 3)),\n",
    "        keras.layers.Dense(1024, activation=tf.nn.relu),\n",
    "        keras.layers.Dense(256, activation=tf.nn.relu),\n",
    "        keras.layers.Dense(64, activation=tf.nn.relu),\n",
    "        keras.layers.Dense(16, activation=tf.nn.relu),\n",
    "        keras.layers.Dense(10, activation=tf.nn.softmax)\n",
    "    ])\n",
    "    model_relu.compile(optimizer=tf.train.GradientDescentOptimizer(\n",
    "        learning_rate=j,\n",
    "        use_locking=False,\n",
    "        name='GradientDescent'), \n",
    "\n",
    "    loss='sparse_categorical_crossentropy',\n",
    "    metrics=['accuracy'])\n",
    "\n",
    "    model_relu.fit(X_train, y_train, epochs=5)\n",
    "    val_loss, val_acc = model_relu.evaluate(X_val, y_val)\n",
    "    val_error = 1 - val_acc\n",
    "    print('Relu Validation Error:', val_error)"
   ]
  },
  {
   "cell_type": "markdown",
   "metadata": {},
   "source": [
    "# Select Best Model (ReLu-ReLu-ReLu-ReLu-Softmax) and Run Test Data"
   ]
  },
  {
   "cell_type": "code",
   "execution_count": null,
   "metadata": {
    "scrolled": true
   },
   "outputs": [
    {
     "name": "stdout",
     "output_type": "stream",
     "text": [
      "Epoch 1/1\n",
      "48000/48000 [==============================] - 27s 569us/step - loss: 1.9631 - acc: 0.2703\n",
      "2000/2000 [==============================] - 1s 328us/step\n",
      "Relu Validation Error: 0.6545000000000001\n",
      "Epoch 1/4\n",
      "48000/48000 [==============================] - 26s 533us/step - loss: 1.7444 - acc: 0.3700\n",
      "Epoch 2/4\n",
      "48000/48000 [==============================] - 24s 505us/step - loss: 1.6464 - acc: 0.4101\n",
      "Epoch 3/4\n",
      "48000/48000 [==============================] - 24s 499us/step - loss: 1.5764 - acc: 0.4365\n",
      "Epoch 4/4\n",
      "48000/48000 [==============================] - 22s 468us/step - loss: 1.5244 - acc: 0.4540\n",
      "2000/2000 [==============================] - 0s 235us/step\n",
      "Relu Validation Error: 0.5375\n",
      "Epoch 1/5\n",
      "48000/48000 [==============================] - 21s 441us/step - loss: 1.4812 - acc: 0.4695\n",
      "Epoch 2/5\n",
      "13536/48000 [=======>......................] - ETA: 19s - loss: 1.4401 - acc: 0.4810"
     ]
    }
   ],
   "source": [
    "model_relu = keras.Sequential([\n",
    "    keras.layers.Flatten(input_shape=(32 , 32, 3)),\n",
    "    keras.layers.Dense(1024, activation=tf.nn.relu),\n",
    "    keras.layers.Dense(256, activation=tf.nn.relu),\n",
    "    keras.layers.Dense(64, activation=tf.nn.relu),\n",
    "    keras.layers.Dense(16, activation=tf.nn.relu),\n",
    "    keras.layers.Dense(10, activation=tf.nn.softmax)\n",
    "])\n",
    "model_relu.compile(optimizer=tf.train.GradientDescentOptimizer(\n",
    "    learning_rate=0.05,\n",
    "    use_locking=False,\n",
    "    name='GradientDescent'), \n",
    "\n",
    "loss='sparse_categorical_crossentropy',\n",
    "metrics=['accuracy'])\n",
    "\n",
    "model_relu.fit(X_train, y_train, epochs=1)\n",
    "val_loss, val_acc = model_relu.evaluate(X_val, y_val)\n",
    "val_error = 1 - val_acc\n",
    "print('Relu Validation Error:', val_error)\n",
    "\n",
    "model_relu.fit(X_train, y_train, epochs=4)\n",
    "val_loss, val_acc = model_relu.evaluate(X_val, y_val)\n",
    "val_error = 1 - val_acc\n",
    "print('Relu Validation Error:', val_error)\n",
    "\n",
    "model_relu.fit(X_train, y_train, epochs=5)\n",
    "val_loss, val_acc = model_relu.evaluate(X_val, y_val)\n",
    "val_error = 1 - val_acc\n",
    "print('Relu Validation Error:', val_error)\n",
    "\n",
    "model_relu.fit(X_train, y_train, epochs=5)\n",
    "val_loss, val_acc = model_relu.evaluate(X_val, y_val)\n",
    "val_error = 1 - val_acc\n",
    "print('Relu Validation Error:', val_error)\n",
    "\n",
    "model_relu.fit(X_train, y_train, epochs=5)\n",
    "val_loss, val_acc = model_relu.evaluate(X_val, y_val)\n",
    "val_error = 1 - val_acc\n",
    "print('Relu Validation Error:', val_error)"
   ]
  },
  {
   "cell_type": "code",
   "execution_count": 70,
   "metadata": {},
   "outputs": [
    {
     "name": "stdout",
     "output_type": "stream",
     "text": [
      "10000/10000 [==============================] - 3s 346us/step\n",
      "Test accuracy: 0.5221\n",
      "Test loss: 1.3981481603622437\n",
      "Test error: 0.4779\n"
     ]
    }
   ],
   "source": [
    "test_loss, test_acc = model_relu.evaluate(test_images, test_labels)\n",
    "test_error = 1 - test_acc\n",
    "\n",
    "print('Test accuracy:', test_acc)\n",
    "print('Test loss:' , test_loss)\n",
    "print('Test error:', test_error)"
   ]
  },
  {
   "cell_type": "markdown",
   "metadata": {},
   "source": [
    "# Generate Predictions and Store Predicted Class Values"
   ]
  },
  {
   "cell_type": "code",
   "execution_count": 71,
   "metadata": {},
   "outputs": [],
   "source": [
    "predictions = model_relu.predict(test_images)\n",
    "y_pred = np.full((10000, 1), 0)\n",
    "for i in range(10000):\n",
    "    y_pred[i] = np.argmax(predictions[i])"
   ]
  },
  {
   "cell_type": "markdown",
   "metadata": {},
   "source": [
    "# Generate Confusion Matrices"
   ]
  },
  {
   "cell_type": "code",
   "execution_count": 111,
   "metadata": {
    "scrolled": true
   },
   "outputs": [
    {
     "name": "stdout",
     "output_type": "stream",
     "text": [
      "[[605  35  85  22  63   6  23  29 109  23]\n",
      " [ 57 653  19  22  13  15   8  27  75 111]\n",
      " [ 67  17 398  70 235  45  70  71  14  13]\n",
      " [ 18  16 128 363 121 145  96  67  21  25]\n",
      " [ 46  10 112  50 568  31  74  83  16  10]\n",
      " [ 20   5 136 210 104 331  75  92  16  11]\n",
      " [  6  21  86  60 186  42 546  31  10  12]\n",
      " [ 36  14  53  64 121  49  19 613   6  25]\n",
      " [126  54  26  28  46  14  11  12 649  34]\n",
      " [ 68 167  27  61  28  21  15  41  77 495]]\n"
     ]
    },
    {
     "data": {
      "text/plain": [
       "<matplotlib.image.AxesImage at 0x1fafc9400>"
      ]
     },
     "execution_count": 111,
     "metadata": {},
     "output_type": "execute_result"
    },
    {
     "data": {
      "image/png": "[encoded data removed]",
      "text/plain": [
       "<Figure size 288x288 with 1 Axes>"
      ]
     },
     "metadata": {
      "needs_background": "light"
     },
     "output_type": "display_data"
    }
   ],
   "source": [
    "conf_mx = confusion_matrix(test_labels, y_pred)\n",
    "\n",
    "#row_sum = np.sum(conf_mx, axis =1, keepdims = True)\n",
    "#norm_conf_mx = conf_mx / row_sum\n",
    "#print(norm_conf_mx.shape)\n",
    "\n",
    "#np.fill_diagonal(norm_conf_mx, 0)\n",
    "#plt.matshow(norm_conf_mx, cmap = plt.cm.gray)\n",
    "#print(norm_conf_mx)\n",
    "print(conf_mx)\n",
    "plt.matshow(conf_mx, cmap = plt.cm.gray)"
   ]
  },
  {
   "cell_type": "markdown",
   "metadata": {},
   "source": [
    "# Generate Classification Report"
   ]
  },
  {
   "cell_type": "code",
   "execution_count": 73,
   "metadata": {
    "scrolled": true
   },
   "outputs": [
    {
     "name": "stdout",
     "output_type": "stream",
     "text": [
      "             precision    recall  f1-score   support\n",
      "\n",
      "          0       0.58      0.60      0.59      1000\n",
      "          1       0.66      0.65      0.66      1000\n",
      "          2       0.37      0.40      0.38      1000\n",
      "          3       0.38      0.36      0.37      1000\n",
      "          4       0.38      0.57      0.46      1000\n",
      "          5       0.47      0.33      0.39      1000\n",
      "          6       0.58      0.55      0.56      1000\n",
      "          7       0.58      0.61      0.59      1000\n",
      "          8       0.65      0.65      0.65      1000\n",
      "          9       0.65      0.49      0.56      1000\n",
      "\n",
      "avg / total       0.53      0.52      0.52     10000\n",
      "\n"
     ]
    }
   ],
   "source": [
    "print(classification_report(test_labels,y_pred))"
   ]
  },
  {
   "cell_type": "markdown",
   "metadata": {},
   "source": [
    "# Example of Prediction Matching Actual Label"
   ]
  },
  {
   "cell_type": "code",
   "execution_count": 74,
   "metadata": {},
   "outputs": [
    {
     "name": "stdout",
     "output_type": "stream",
     "text": [
      "[5]\n",
      "[5]\n"
     ]
    }
   ],
   "source": [
    "print(y_pred[1000])\n",
    "print(test_labels[1000])"
   ]
  },
  {
   "cell_type": "code",
   "execution_count": null,
   "metadata": {},
   "outputs": [],
   "source": []
  }
 ],
 "metadata": {
  "kernelspec": {
   "display_name": "Python 3",
   "language": "python",
   "name": "python3"
  },
  "language_info": {
   "codemirror_mode": {
    "name": "ipython",
    "version": 3
   },
   "file_extension": ".py",
   "mimetype": "text/x-python",
   "name": "python",
   "nbconvert_exporter": "python",
   "pygments_lexer": "ipython3",
   "version": "3.7.0"
  }
 },
 "nbformat": 4,
 "nbformat_minor": 2
}
